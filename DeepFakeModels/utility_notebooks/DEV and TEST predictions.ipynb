{
 "cells": [
  {
   "cell_type": "code",
   "execution_count": 1,
   "metadata": {},
   "outputs": [
    {
     "name": "stdout",
     "output_type": "stream",
     "text": [
      "Requirement already satisfied: efficientnet-pytorch in /usr/local/lib/python3.5/dist-packages (0.6.3)\n",
      "Requirement already satisfied: torch in /usr/local/lib/python3.5/dist-packages (from efficientnet-pytorch) (1.3.1)\n",
      "Requirement already satisfied: numpy in /usr/local/lib/python3.5/site-packages (from torch->efficientnet-pytorch) (1.15.1)\n",
      "Requirement already satisfied: mkl in /usr/local/lib/python3.5/dist-packages (from numpy->torch->efficientnet-pytorch) (2019.0)\n",
      "Requirement already satisfied: tbb4py in /usr/local/lib/python3.5/dist-packages (from numpy->torch->efficientnet-pytorch) (2019.0)\n",
      "Requirement already satisfied: icc-rt in /usr/local/lib/python3.5/dist-packages (from numpy->torch->efficientnet-pytorch) (2020.0.133)\n",
      "Requirement already satisfied: mkl-random in /usr/local/lib/python3.5/dist-packages (from numpy->torch->efficientnet-pytorch) (1.0.1.1)\n",
      "Requirement already satisfied: mkl-fft in /usr/local/lib/python3.5/dist-packages (from numpy->torch->efficientnet-pytorch) (1.0.6)\n",
      "Requirement already satisfied: intel-openmp in /usr/local/lib/python3.5/dist-packages (from mkl->numpy->torch->efficientnet-pytorch) (2020.0.133)\n",
      "Requirement already satisfied: tbb==2019.* in /usr/local/lib/python3.5/dist-packages (from tbb4py->numpy->torch->efficientnet-pytorch) (2019.0)\n",
      "Requirement already satisfied: intel-numpy in /usr/local/lib/python3.5/dist-packages (from mkl-random->numpy->torch->efficientnet-pytorch) (1.15.1)\n",
      "\u001b[33mWARNING: You are using pip version 19.3.1; however, version 20.0.2 is available.\n",
      "You should consider upgrading via the 'pip install --upgrade pip' command.\u001b[0m\n"
     ]
    }
   ],
   "source": [
    "!pip install efficientnet-pytorch"
   ]
  },
  {
   "cell_type": "code",
   "execution_count": 2,
   "metadata": {},
   "outputs": [
    {
     "data": {
      "text/plain": [
       "device(type='cuda', index=0)"
      ]
     },
     "execution_count": 2,
     "metadata": {},
     "output_type": "execute_result"
    }
   ],
   "source": [
    "import cv2\n",
    "cv2.setNumThreads(0)\n",
    "cv2.ocl.setUseOpenCL(False)\n",
    "import datetime\n",
    "import glob\n",
    "import matplotlib.pyplot as plt\n",
    "import numpy as np\n",
    "import os\n",
    "import pandas as pd\n",
    "import pickle\n",
    "import random\n",
    "import time\n",
    "import torch\n",
    "torch.set_num_threads(36)\n",
    "from collections import Counter\n",
    "from concurrent.futures import ThreadPoolExecutor, wait, as_completed\n",
    "from efficientnet_pytorch import EfficientNet\n",
    "from senet import se_resnext50_32x4d\n",
    "from sklearn.metrics import roc_auc_score\n",
    "from sklearn.model_selection import train_test_split\n",
    "from torch import nn, optim\n",
    "from torch.utils.data import DataLoader, Dataset\n",
    "from torch.utils.data.sampler import Sampler, WeightedRandomSampler\n",
    "from torchvision import transforms\n",
    "from tqdm import tqdm\n",
    "\n",
    "from radam import RAdam\n",
    "from lookahead import Lookahead\n",
    "\n",
    "METADATA_DIR = 'data/metadata'\n",
    "FACES_DIR = 'faces_saved'\n",
    "\n",
    "%matplotlib inline\n",
    "\n",
    "device = torch.device(\"cuda:0\" if torch.cuda.is_available() else \"cpu\")\n",
    "device"
   ]
  },
  {
   "cell_type": "code",
   "execution_count": 3,
   "metadata": {},
   "outputs": [
    {
     "name": "stdout",
     "output_type": "stream",
     "text": [
      "CPU times: user 4 ms, sys: 0 ns, total: 4 ms\n",
      "Wall time: 5.59 ms\n"
     ]
    },
    {
     "data": {
      "text/plain": [
       "(10792, 10803, 10792, 10803)"
      ]
     },
     "execution_count": 3,
     "metadata": {},
     "output_type": "execute_result"
    }
   ],
   "source": [
    "%%time\n",
    "\n",
    "with open('dev_faces.pickle', 'rb') as handle:\n",
    "    dev_faces = pickle.load(handle)\n",
    "    \n",
    "with open('test_faces.pickle', 'rb') as handle:\n",
    "    test_faces = pickle.load(handle)\n",
    "    \n",
    "with open('dev_target.pickle', 'rb') as handle:\n",
    "    dev_target = pickle.load(handle)\n",
    "    \n",
    "with open('test_target.pickle', 'rb') as handle:\n",
    "    test_target = pickle.load(handle)\n",
    "\n",
    "len(dev_faces), len(test_faces), len(dev_target), len(test_target)"
   ]
  },
  {
   "cell_type": "code",
   "execution_count": 4,
   "metadata": {},
   "outputs": [],
   "source": [
    "dev_videos = [x.split('/')[1] + '.mp4' for x in dev_faces]\n",
    "test_videos = [x.split('/')[1] + '.mp4' for x in test_faces]"
   ]
  },
  {
   "cell_type": "code",
   "execution_count": 5,
   "metadata": {},
   "outputs": [],
   "source": [
    "class CustomDataset(Dataset):\n",
    "    def __init__(self, faces_paths, faces_labels, datatype='train', transform=None):\n",
    "        self.faces_paths = faces_paths\n",
    "        self.datatype = datatype\n",
    "        assert self.datatype in ['train', 'dev', 'test', 'inference']\n",
    "        self.labels = faces_labels\n",
    "        self.transform = transform\n",
    "\n",
    "    def __len__(self):\n",
    "        return len(self.faces_paths)\n",
    "\n",
    "    def __getitem__(self, idx):\n",
    "        img_name = self.faces_paths[idx]\n",
    "        img = cv2.imread(img_name)\n",
    "        img = cv2.cvtColor(img, cv2.COLOR_BGR2RGB)\n",
    "        if self.transform:\n",
    "#             img = cv2.normalize(img.astype('float'), None, 0.0, 1.0, cv2.NORM_MINMAX)\n",
    "            img = self.transform(img / 255)\n",
    "#             img = img.permute(2, 0, 1)\n",
    "        else:\n",
    "            img = np.transpose(img, (2, 0, 1)) / 255\n",
    "\n",
    "        if self.datatype != 'inference':\n",
    "            label = self.labels[idx]\n",
    "            return img, label\n",
    "        else:\n",
    "            return img"
   ]
  },
  {
   "cell_type": "code",
   "execution_count": 6,
   "metadata": {},
   "outputs": [],
   "source": [
    "batch_size = 64\n",
    "num_workers = 8"
   ]
  },
  {
   "cell_type": "code",
   "execution_count": 7,
   "metadata": {},
   "outputs": [],
   "source": [
    "def prepare_model(checkpoint, device=device, model_name='efficientnet-b4', num_classes=2):\n",
    "    if model_name.startswith('efficient'):\n",
    "        model = EfficientNet.from_name(model_name)\n",
    "        in_features = model._fc.in_features\n",
    "        model._fc = nn.Linear(in_features, num_classes)\n",
    "    elif model_name == 'se_resnext50':\n",
    "        model = se_resnext50_32x4d(num_classes=1000, pretrained=None)\n",
    "        in_features = model.last_linear.in_features\n",
    "        model.last_linear = nn.Linear(in_features, num_classes)\n",
    "    else:\n",
    "        raise NotImplementedError(\"To be implemented\")\n",
    "    model.load_state_dict(checkpoint)\n",
    "    model.to(device=device)\n",
    "    _ = model.eval()\n",
    "    return model"
   ]
  },
  {
   "cell_type": "markdown",
   "metadata": {},
   "source": [
    "# 1. EfficientNet-B4\n",
    "\n",
    "##### (2020-03-03_07-25-04_efficientnet-b4-radam-lookahead-baseline_994682_ep4.pt)"
   ]
  },
  {
   "cell_type": "code",
   "execution_count": 8,
   "metadata": {},
   "outputs": [
    {
     "name": "stderr",
     "output_type": "stream",
     "text": [
      "dev: 100%|██████████| 169/169 [00:36<00:00,  4.61it/s]\n",
      "test: 100%|██████████| 169/169 [00:36<00:00,  4.59it/s]"
     ]
    },
    {
     "name": "stdout",
     "output_type": "stream",
     "text": [
      "CPU times: user 57.5 s, sys: 18 s, total: 1min 15s\n",
      "Wall time: 1min 17s\n"
     ]
    },
    {
     "name": "stderr",
     "output_type": "stream",
     "text": [
      "\n"
     ]
    }
   ],
   "source": [
    "%%time\n",
    "\n",
    "checkpoint_name = '2020-03-03_07-25-04_efficientnet-b4-radam-lookahead-baseline_994682_ep4.pt'\n",
    "checkpoint = torch.load(os.path.join('models_checkpoints', checkpoint_name), map_location=device)\n",
    "\n",
    "custom_transforms = transforms.Compose([\n",
    "#     transforms.Resize((224,224)), \n",
    "    transforms.ToTensor(),\n",
    "#     transforms.Normalize(mean=[0.485, 0.456, 0.406], std=[0.229, 0.224, 0.225])\n",
    "])\n",
    "\n",
    "dataset_dev = CustomDataset(faces_paths=dev_faces, faces_labels=dev_target, datatype='dev', transform=custom_transforms)\n",
    "dataset_test = CustomDataset(faces_paths=test_faces, faces_labels=test_target, datatype='test', transform=custom_transforms)\n",
    "\n",
    "dev_loader = DataLoader(dataset_dev, batch_size=batch_size, shuffle=False, num_workers=num_workers)\n",
    "test_loader = DataLoader(dataset_test, batch_size=batch_size, shuffle=False, num_workers=num_workers)\n",
    "\n",
    "y_dev_pred = np.zeros(len(dataset_dev))\n",
    "y_test_pred = np.zeros(len(dataset_test))\n",
    "\n",
    "model = prepare_model(checkpoint)\n",
    "with torch.no_grad():\n",
    "    for i, (data, target) in enumerate(tqdm(dev_loader, desc='dev')):\n",
    "        data, target = data.to(device=device).float(), target.to(device=device)\n",
    "        output = model(data)\n",
    "        output = nn.Softmax(dim=1)(output)\n",
    "        y_dev_pred[i * batch_size:(i+1) * batch_size] = output[:, 1].detach().cpu().numpy()\n",
    "\n",
    "with torch.no_grad():\n",
    "    for i, (data, target) in enumerate(tqdm(test_loader, desc='test')):\n",
    "        data, target = data.to(device=device).float(), target.to(device=device)\n",
    "        output = model(data)\n",
    "        output = nn.Softmax(dim=1)(output)\n",
    "        y_test_pred[i * batch_size:(i+1) * batch_size] = output[:, 1].detach().cpu().numpy()"
   ]
  },
  {
   "cell_type": "code",
   "execution_count": 9,
   "metadata": {},
   "outputs": [
    {
     "data": {
      "image/png": "[encoded data removed]",
      "text/plain": [
       "<Figure size 1080x432 with 2 Axes>"
      ]
     },
     "metadata": {
      "needs_background": "light"
     },
     "output_type": "display_data"
    }
   ],
   "source": [
    "fig, ax = plt.subplots(nrows=1, ncols=2, figsize=(15, 6))\n",
    "\n",
    "ax[0].set_title('{}\\nDEV SET\\nFAKE: {}, REAL: {}\\nAUC-ROC: {:.6f}'.format(\n",
    "    checkpoint_name,\n",
    "    (y_dev_pred > 0.5).sum(),\n",
    "    (y_dev_pred <= 0.5).sum(),\n",
    "    roc_auc_score(dev_target, y_dev_pred)\n",
    "))\n",
    "ax[0].hist(y_dev_pred, bins=10)\n",
    "\n",
    "ax[1].set_title('TEST SET\\nFAKE: {}, REAL: {}\\nAUC-ROC: {:.6f}'.format(\n",
    "    (y_test_pred > 0.5).sum(),\n",
    "    (y_test_pred <= 0.5).sum(),\n",
    "    roc_auc_score(test_target, y_test_pred)\n",
    "))\n",
    "ax[1].hist(y_test_pred, bins=10)\n",
    "\n",
    "plt.show()"
   ]
  },
  {
   "cell_type": "code",
   "execution_count": 10,
   "metadata": {},
   "outputs": [
    {
     "data": {
      "text/plain": [
       "(0.9980714107842047, 0.9986441052321586)"
      ]
     },
     "execution_count": 10,
     "metadata": {},
     "output_type": "execute_result"
    }
   ],
   "source": [
    "df_dev_pred = pd.DataFrame({'filename': dev_videos, 'prediction': y_dev_pred, 'target': dev_target})\n",
    "df_dev_pred = df_dev_pred.groupby('filename').mean().reset_index()\n",
    "df_test_pred = pd.DataFrame({'filename': test_videos, 'prediction': y_test_pred, 'target': test_target})\n",
    "df_test_pred = df_test_pred.groupby('filename').mean().reset_index()\n",
    "roc_auc_score(df_dev_pred['target'], df_dev_pred['prediction']), roc_auc_score(df_test_pred['target'], df_test_pred['prediction'])"
   ]
  },
  {
   "cell_type": "code",
   "execution_count": 11,
   "metadata": {},
   "outputs": [
    {
     "data": {
      "text/html": [
       "<div>\n",
       "<style scoped>\n",
       "    .dataframe tbody tr th:only-of-type {\n",
       "        vertical-align: middle;\n",
       "    }\n",
       "\n",
       "    .dataframe tbody tr th {\n",
       "        vertical-align: top;\n",
       "    }\n",
       "\n",
       "    .dataframe thead th {\n",
       "        text-align: right;\n",
       "    }\n",
       "</style>\n",
       "<table border=\"1\" class=\"dataframe\">\n",
       "  <thead>\n",
       "    <tr style=\"text-align: right;\">\n",
       "      <th></th>\n",
       "      <th>filename</th>\n",
       "      <th>prediction</th>\n",
       "      <th>target</th>\n",
       "    </tr>\n",
       "  </thead>\n",
       "  <tbody>\n",
       "    <tr>\n",
       "      <th>0</th>\n",
       "      <td>aakdoghgcp.mp4</td>\n",
       "      <td>0.985469</td>\n",
       "      <td>1</td>\n",
       "    </tr>\n",
       "    <tr>\n",
       "      <th>1</th>\n",
       "      <td>aatntbvzum.mp4</td>\n",
       "      <td>0.130444</td>\n",
       "      <td>0</td>\n",
       "    </tr>\n",
       "    <tr>\n",
       "      <th>2</th>\n",
       "      <td>acdlfavijf.mp4</td>\n",
       "      <td>0.999233</td>\n",
       "      <td>1</td>\n",
       "    </tr>\n",
       "    <tr>\n",
       "      <th>3</th>\n",
       "      <td>acffugkzgj.mp4</td>\n",
       "      <td>0.999994</td>\n",
       "      <td>1</td>\n",
       "    </tr>\n",
       "    <tr>\n",
       "      <th>4</th>\n",
       "      <td>acozboebwm.mp4</td>\n",
       "      <td>0.602908</td>\n",
       "      <td>0</td>\n",
       "    </tr>\n",
       "  </tbody>\n",
       "</table>\n",
       "</div>"
      ],
      "text/plain": [
       "         filename  prediction  target\n",
       "0  aakdoghgcp.mp4    0.985469       1\n",
       "1  aatntbvzum.mp4    0.130444       0\n",
       "2  acdlfavijf.mp4    0.999233       1\n",
       "3  acffugkzgj.mp4    0.999994       1\n",
       "4  acozboebwm.mp4    0.602908       0"
      ]
     },
     "execution_count": 11,
     "metadata": {},
     "output_type": "execute_result"
    }
   ],
   "source": [
    "df_dev_pred.head()"
   ]
  },
  {
   "cell_type": "code",
   "execution_count": 12,
   "metadata": {},
   "outputs": [
    {
     "data": {
      "text/html": [
       "<div>\n",
       "<style scoped>\n",
       "    .dataframe tbody tr th:only-of-type {\n",
       "        vertical-align: middle;\n",
       "    }\n",
       "\n",
       "    .dataframe tbody tr th {\n",
       "        vertical-align: top;\n",
       "    }\n",
       "\n",
       "    .dataframe thead th {\n",
       "        text-align: right;\n",
       "    }\n",
       "</style>\n",
       "<table border=\"1\" class=\"dataframe\">\n",
       "  <thead>\n",
       "    <tr style=\"text-align: right;\">\n",
       "      <th></th>\n",
       "      <th>filename</th>\n",
       "      <th>prediction</th>\n",
       "      <th>target</th>\n",
       "    </tr>\n",
       "  </thead>\n",
       "  <tbody>\n",
       "    <tr>\n",
       "      <th>0</th>\n",
       "      <td>aaeflzzhvy.mp4</td>\n",
       "      <td>0.999989</td>\n",
       "      <td>1</td>\n",
       "    </tr>\n",
       "    <tr>\n",
       "      <th>1</th>\n",
       "      <td>aafkeenkqm.mp4</td>\n",
       "      <td>0.998493</td>\n",
       "      <td>1</td>\n",
       "    </tr>\n",
       "    <tr>\n",
       "      <th>2</th>\n",
       "      <td>abhssqzhxu.mp4</td>\n",
       "      <td>0.555657</td>\n",
       "      <td>0</td>\n",
       "    </tr>\n",
       "    <tr>\n",
       "      <th>3</th>\n",
       "      <td>ablakozzyi.mp4</td>\n",
       "      <td>0.999989</td>\n",
       "      <td>1</td>\n",
       "    </tr>\n",
       "    <tr>\n",
       "      <th>4</th>\n",
       "      <td>ablzgowmwo.mp4</td>\n",
       "      <td>0.294504</td>\n",
       "      <td>0</td>\n",
       "    </tr>\n",
       "  </tbody>\n",
       "</table>\n",
       "</div>"
      ],
      "text/plain": [
       "         filename  prediction  target\n",
       "0  aaeflzzhvy.mp4    0.999989       1\n",
       "1  aafkeenkqm.mp4    0.998493       1\n",
       "2  abhssqzhxu.mp4    0.555657       0\n",
       "3  ablakozzyi.mp4    0.999989       1\n",
       "4  ablzgowmwo.mp4    0.294504       0"
      ]
     },
     "execution_count": 12,
     "metadata": {},
     "output_type": "execute_result"
    }
   ],
   "source": [
    "df_test_pred.head()"
   ]
  },
  {
   "cell_type": "code",
   "execution_count": 13,
   "metadata": {},
   "outputs": [],
   "source": [
    "df_dev_pred.to_csv('results_DEV/DEV_PREDS_{}.csv'.format(checkpoint_name.split('.')[0]))\n",
    "df_test_pred.to_csv('results_TEST/TEST_PREDS_{}.csv'.format(checkpoint_name.split('.')[0]))"
   ]
  },
  {
   "cell_type": "markdown",
   "metadata": {},
   "source": [
    "# 2. EfficientNet-B4 (undersampling)\n",
    "\n",
    "##### (2020-03-12_12-20-58_efficientnet-b4-radam-lookahead-baseline-undersampling_995090_ep3.pt)"
   ]
  },
  {
   "cell_type": "code",
   "execution_count": 14,
   "metadata": {},
   "outputs": [
    {
     "name": "stderr",
     "output_type": "stream",
     "text": [
      "dev: 100%|██████████| 169/169 [00:36<00:00,  4.58it/s]\n",
      "test: 100%|██████████| 169/169 [00:36<00:00,  4.58it/s]"
     ]
    },
    {
     "name": "stdout",
     "output_type": "stream",
     "text": [
      "CPU times: user 55.8 s, sys: 16.3 s, total: 1min 12s\n",
      "Wall time: 1min 15s\n"
     ]
    },
    {
     "name": "stderr",
     "output_type": "stream",
     "text": [
      "\n"
     ]
    }
   ],
   "source": [
    "%%time\n",
    "\n",
    "checkpoint_name = '2020-03-12_12-20-58_efficientnet-b4-radam-lookahead-baseline-undersampling_995090_ep3.pt'\n",
    "checkpoint = torch.load(os.path.join('models_checkpoints', checkpoint_name), map_location=device)\n",
    "\n",
    "custom_transforms = transforms.Compose([\n",
    "#     transforms.Resize((224,224)), \n",
    "    transforms.ToTensor(),\n",
    "#     transforms.Normalize(mean=[0.485, 0.456, 0.406], std=[0.229, 0.224, 0.225])\n",
    "])\n",
    "\n",
    "dataset_dev = CustomDataset(faces_paths=dev_faces, faces_labels=dev_target, datatype='dev', transform=custom_transforms)\n",
    "dataset_test = CustomDataset(faces_paths=test_faces, faces_labels=test_target, datatype='test', transform=custom_transforms)\n",
    "\n",
    "dev_loader = DataLoader(dataset_dev, batch_size=batch_size, shuffle=False, num_workers=num_workers)\n",
    "test_loader = DataLoader(dataset_test, batch_size=batch_size, shuffle=False, num_workers=num_workers)\n",
    "\n",
    "y_dev_pred = np.zeros(len(dataset_dev))\n",
    "y_test_pred = np.zeros(len(dataset_test))\n",
    "\n",
    "model = prepare_model(checkpoint)\n",
    "with torch.no_grad():\n",
    "    for i, (data, target) in enumerate(tqdm(dev_loader, desc='dev')):\n",
    "        data, target = data.to(device=device).float(), target.to(device=device)\n",
    "        output = model(data)\n",
    "        output = nn.Softmax(dim=1)(output)\n",
    "        y_dev_pred[i * batch_size:(i+1) * batch_size] = output[:, 1].detach().cpu().numpy()\n",
    "\n",
    "with torch.no_grad():\n",
    "    for i, (data, target) in enumerate(tqdm(test_loader, desc='test')):\n",
    "        data, target = data.to(device=device).float(), target.to(device=device)\n",
    "        output = model(data)\n",
    "        output = nn.Softmax(dim=1)(output)\n",
    "        y_test_pred[i * batch_size:(i+1) * batch_size] = output[:, 1].detach().cpu().numpy()"
   ]
  },
  {
   "cell_type": "code",
   "execution_count": 15,
   "metadata": {},
   "outputs": [
    {
     "data": {
      "image/png": "[encoded data removed]",
      "text/plain": [
       "<Figure size 1080x432 with 2 Axes>"
      ]
     },
     "metadata": {
      "needs_background": "light"
     },
     "output_type": "display_data"
    }
   ],
   "source": [
    "fig, ax = plt.subplots(nrows=1, ncols=2, figsize=(15, 6))\n",
    "\n",
    "ax[0].set_title('{}\\nDEV SET\\nFAKE: {}, REAL: {}\\nAUC-ROC: {:.6f}'.format(\n",
    "    checkpoint_name,\n",
    "    (y_dev_pred > 0.5).sum(),\n",
    "    (y_dev_pred <= 0.5).sum(),\n",
    "    roc_auc_score(dev_target, y_dev_pred)\n",
    "))\n",
    "ax[0].hist(y_dev_pred, bins=10)\n",
    "\n",
    "ax[1].set_title('TEST SET\\nFAKE: {}, REAL: {}\\nAUC-ROC: {:.6f}'.format(\n",
    "    (y_test_pred > 0.5).sum(),\n",
    "    (y_test_pred <= 0.5).sum(),\n",
    "    roc_auc_score(test_target, y_test_pred)\n",
    "))\n",
    "ax[1].hist(y_test_pred, bins=10)\n",
    "\n",
    "plt.show()"
   ]
  },
  {
   "cell_type": "code",
   "execution_count": 16,
   "metadata": {},
   "outputs": [
    {
     "data": {
      "text/plain": [
       "(0.9979389527336693, 0.99916560321979)"
      ]
     },
     "execution_count": 16,
     "metadata": {},
     "output_type": "execute_result"
    }
   ],
   "source": [
    "df_dev_pred = pd.DataFrame({'filename': dev_videos, 'prediction': y_dev_pred, 'target': dev_target})\n",
    "df_dev_pred = df_dev_pred.groupby('filename').mean().reset_index()\n",
    "df_test_pred = pd.DataFrame({'filename': test_videos, 'prediction': y_test_pred, 'target': test_target})\n",
    "df_test_pred = df_test_pred.groupby('filename').mean().reset_index()\n",
    "roc_auc_score(df_dev_pred['target'], df_dev_pred['prediction']), roc_auc_score(df_test_pred['target'], df_test_pred['prediction'])"
   ]
  },
  {
   "cell_type": "code",
   "execution_count": 17,
   "metadata": {},
   "outputs": [
    {
     "data": {
      "text/html": [
       "<div>\n",
       "<style scoped>\n",
       "    .dataframe tbody tr th:only-of-type {\n",
       "        vertical-align: middle;\n",
       "    }\n",
       "\n",
       "    .dataframe tbody tr th {\n",
       "        vertical-align: top;\n",
       "    }\n",
       "\n",
       "    .dataframe thead th {\n",
       "        text-align: right;\n",
       "    }\n",
       "</style>\n",
       "<table border=\"1\" class=\"dataframe\">\n",
       "  <thead>\n",
       "    <tr style=\"text-align: right;\">\n",
       "      <th></th>\n",
       "      <th>filename</th>\n",
       "      <th>prediction</th>\n",
       "      <th>target</th>\n",
       "    </tr>\n",
       "  </thead>\n",
       "  <tbody>\n",
       "    <tr>\n",
       "      <th>0</th>\n",
       "      <td>aakdoghgcp.mp4</td>\n",
       "      <td>0.716145</td>\n",
       "      <td>1</td>\n",
       "    </tr>\n",
       "    <tr>\n",
       "      <th>1</th>\n",
       "      <td>aatntbvzum.mp4</td>\n",
       "      <td>0.128722</td>\n",
       "      <td>0</td>\n",
       "    </tr>\n",
       "    <tr>\n",
       "      <th>2</th>\n",
       "      <td>acdlfavijf.mp4</td>\n",
       "      <td>0.952975</td>\n",
       "      <td>1</td>\n",
       "    </tr>\n",
       "    <tr>\n",
       "      <th>3</th>\n",
       "      <td>acffugkzgj.mp4</td>\n",
       "      <td>0.999995</td>\n",
       "      <td>1</td>\n",
       "    </tr>\n",
       "    <tr>\n",
       "      <th>4</th>\n",
       "      <td>acozboebwm.mp4</td>\n",
       "      <td>0.351408</td>\n",
       "      <td>0</td>\n",
       "    </tr>\n",
       "  </tbody>\n",
       "</table>\n",
       "</div>"
      ],
      "text/plain": [
       "         filename  prediction  target\n",
       "0  aakdoghgcp.mp4    0.716145       1\n",
       "1  aatntbvzum.mp4    0.128722       0\n",
       "2  acdlfavijf.mp4    0.952975       1\n",
       "3  acffugkzgj.mp4    0.999995       1\n",
       "4  acozboebwm.mp4    0.351408       0"
      ]
     },
     "execution_count": 17,
     "metadata": {},
     "output_type": "execute_result"
    }
   ],
   "source": [
    "df_dev_pred.head()"
   ]
  },
  {
   "cell_type": "code",
   "execution_count": 18,
   "metadata": {},
   "outputs": [
    {
     "data": {
      "text/html": [
       "<div>\n",
       "<style scoped>\n",
       "    .dataframe tbody tr th:only-of-type {\n",
       "        vertical-align: middle;\n",
       "    }\n",
       "\n",
       "    .dataframe tbody tr th {\n",
       "        vertical-align: top;\n",
       "    }\n",
       "\n",
       "    .dataframe thead th {\n",
       "        text-align: right;\n",
       "    }\n",
       "</style>\n",
       "<table border=\"1\" class=\"dataframe\">\n",
       "  <thead>\n",
       "    <tr style=\"text-align: right;\">\n",
       "      <th></th>\n",
       "      <th>filename</th>\n",
       "      <th>prediction</th>\n",
       "      <th>target</th>\n",
       "    </tr>\n",
       "  </thead>\n",
       "  <tbody>\n",
       "    <tr>\n",
       "      <th>0</th>\n",
       "      <td>aaeflzzhvy.mp4</td>\n",
       "      <td>0.999993</td>\n",
       "      <td>1</td>\n",
       "    </tr>\n",
       "    <tr>\n",
       "      <th>1</th>\n",
       "      <td>aafkeenkqm.mp4</td>\n",
       "      <td>0.993685</td>\n",
       "      <td>1</td>\n",
       "    </tr>\n",
       "    <tr>\n",
       "      <th>2</th>\n",
       "      <td>abhssqzhxu.mp4</td>\n",
       "      <td>0.315384</td>\n",
       "      <td>0</td>\n",
       "    </tr>\n",
       "    <tr>\n",
       "      <th>3</th>\n",
       "      <td>ablakozzyi.mp4</td>\n",
       "      <td>0.975139</td>\n",
       "      <td>1</td>\n",
       "    </tr>\n",
       "    <tr>\n",
       "      <th>4</th>\n",
       "      <td>ablzgowmwo.mp4</td>\n",
       "      <td>0.140292</td>\n",
       "      <td>0</td>\n",
       "    </tr>\n",
       "  </tbody>\n",
       "</table>\n",
       "</div>"
      ],
      "text/plain": [
       "         filename  prediction  target\n",
       "0  aaeflzzhvy.mp4    0.999993       1\n",
       "1  aafkeenkqm.mp4    0.993685       1\n",
       "2  abhssqzhxu.mp4    0.315384       0\n",
       "3  ablakozzyi.mp4    0.975139       1\n",
       "4  ablzgowmwo.mp4    0.140292       0"
      ]
     },
     "execution_count": 18,
     "metadata": {},
     "output_type": "execute_result"
    }
   ],
   "source": [
    "df_test_pred.head()"
   ]
  },
  {
   "cell_type": "code",
   "execution_count": 19,
   "metadata": {},
   "outputs": [],
   "source": [
    "df_dev_pred.to_csv('results_DEV/DEV_PREDS_{}.csv'.format(checkpoint_name.split('.')[0]))\n",
    "df_test_pred.to_csv('results_TEST/TEST_PREDS_{}.csv'.format(checkpoint_name.split('.')[0]))"
   ]
  },
  {
   "cell_type": "markdown",
   "metadata": {},
   "source": [
    "# 3. EfficientNet-B4 (undersampling)\n",
    "\n",
    "##### (2020-03-12_15-55-44_efficientnet-b4-radam-lookahead-baseline-undersampling_995658_ep4.pt)"
   ]
  },
  {
   "cell_type": "code",
   "execution_count": 20,
   "metadata": {},
   "outputs": [
    {
     "name": "stderr",
     "output_type": "stream",
     "text": [
      "dev: 100%|██████████| 169/169 [00:36<00:00,  4.59it/s]\n",
      "test: 100%|██████████| 169/169 [00:36<00:00,  4.59it/s]"
     ]
    },
    {
     "name": "stdout",
     "output_type": "stream",
     "text": [
      "CPU times: user 55.2 s, sys: 16.7 s, total: 1min 11s\n",
      "Wall time: 1min 14s\n"
     ]
    },
    {
     "name": "stderr",
     "output_type": "stream",
     "text": [
      "\n"
     ]
    }
   ],
   "source": [
    "%%time\n",
    "\n",
    "checkpoint_name = '2020-03-12_15-55-44_efficientnet-b4-radam-lookahead-baseline-undersampling_995658_ep4.pt'\n",
    "checkpoint = torch.load(os.path.join('models_checkpoints', checkpoint_name), map_location=device)\n",
    "\n",
    "custom_transforms = transforms.Compose([\n",
    "#     transforms.Resize((224,224)), \n",
    "    transforms.ToTensor(),\n",
    "#     transforms.Normalize(mean=[0.485, 0.456, 0.406], std=[0.229, 0.224, 0.225])\n",
    "])\n",
    "\n",
    "dataset_dev = CustomDataset(faces_paths=dev_faces, faces_labels=dev_target, datatype='dev', transform=custom_transforms)\n",
    "dataset_test = CustomDataset(faces_paths=test_faces, faces_labels=test_target, datatype='test', transform=custom_transforms)\n",
    "\n",
    "dev_loader = DataLoader(dataset_dev, batch_size=batch_size, shuffle=False, num_workers=num_workers)\n",
    "test_loader = DataLoader(dataset_test, batch_size=batch_size, shuffle=False, num_workers=num_workers)\n",
    "\n",
    "y_dev_pred = np.zeros(len(dataset_dev))\n",
    "y_test_pred = np.zeros(len(dataset_test))\n",
    "\n",
    "model = prepare_model(checkpoint)\n",
    "with torch.no_grad():\n",
    "    for i, (data, target) in enumerate(tqdm(dev_loader, desc='dev')):\n",
    "        data, target = data.to(device=device).float(), target.to(device=device)\n",
    "        output = model(data)\n",
    "        output = nn.Softmax(dim=1)(output)\n",
    "        y_dev_pred[i * batch_size:(i+1) * batch_size] = output[:, 1].detach().cpu().numpy()\n",
    "\n",
    "with torch.no_grad():\n",
    "    for i, (data, target) in enumerate(tqdm(test_loader, desc='test')):\n",
    "        data, target = data.to(device=device).float(), target.to(device=device)\n",
    "        output = model(data)\n",
    "        output = nn.Softmax(dim=1)(output)\n",
    "        y_test_pred[i * batch_size:(i+1) * batch_size] = output[:, 1].detach().cpu().numpy()"
   ]
  },
  {
   "cell_type": "code",
   "execution_count": 21,
   "metadata": {},
   "outputs": [
    {
     "data": {
      "image/png": "[encoded data removed]",
      "text/plain": [
       "<Figure size 1080x432 with 2 Axes>"
      ]
     },
     "metadata": {
      "needs_background": "light"
     },
     "output_type": "display_data"
    }
   ],
   "source": [
    "fig, ax = plt.subplots(nrows=1, ncols=2, figsize=(15, 6))\n",
    "\n",
    "ax[0].set_title('{}\\nDEV SET\\nFAKE: {}, REAL: {}\\nAUC-ROC: {:.6f}'.format(\n",
    "    checkpoint_name,\n",
    "    (y_dev_pred > 0.5).sum(),\n",
    "    (y_dev_pred <= 0.5).sum(),\n",
    "    roc_auc_score(dev_target, y_dev_pred)\n",
    "))\n",
    "ax[0].hist(y_dev_pred, bins=10)\n",
    "\n",
    "ax[1].set_title('TEST SET\\nFAKE: {}, REAL: {}\\nAUC-ROC: {:.6f}'.format(\n",
    "    (y_test_pred > 0.5).sum(),\n",
    "    (y_test_pred <= 0.5).sum(),\n",
    "    roc_auc_score(test_target, y_test_pred)\n",
    "))\n",
    "ax[1].hist(y_test_pred, bins=10)\n",
    "\n",
    "plt.show()"
   ]
  },
  {
   "cell_type": "code",
   "execution_count": 22,
   "metadata": {},
   "outputs": [
    {
     "data": {
      "text/plain": [
       "(0.9979813393098406, 0.9987790811818986)"
      ]
     },
     "execution_count": 22,
     "metadata": {},
     "output_type": "execute_result"
    }
   ],
   "source": [
    "df_dev_pred = pd.DataFrame({'filename': dev_videos, 'prediction': y_dev_pred, 'target': dev_target})\n",
    "df_dev_pred = df_dev_pred.groupby('filename').mean().reset_index()\n",
    "df_test_pred = pd.DataFrame({'filename': test_videos, 'prediction': y_test_pred, 'target': test_target})\n",
    "df_test_pred = df_test_pred.groupby('filename').mean().reset_index()\n",
    "roc_auc_score(df_dev_pred['target'], df_dev_pred['prediction']), roc_auc_score(df_test_pred['target'], df_test_pred['prediction'])"
   ]
  },
  {
   "cell_type": "code",
   "execution_count": 23,
   "metadata": {},
   "outputs": [
    {
     "data": {
      "text/html": [
       "<div>\n",
       "<style scoped>\n",
       "    .dataframe tbody tr th:only-of-type {\n",
       "        vertical-align: middle;\n",
       "    }\n",
       "\n",
       "    .dataframe tbody tr th {\n",
       "        vertical-align: top;\n",
       "    }\n",
       "\n",
       "    .dataframe thead th {\n",
       "        text-align: right;\n",
       "    }\n",
       "</style>\n",
       "<table border=\"1\" class=\"dataframe\">\n",
       "  <thead>\n",
       "    <tr style=\"text-align: right;\">\n",
       "      <th></th>\n",
       "      <th>filename</th>\n",
       "      <th>prediction</th>\n",
       "      <th>target</th>\n",
       "    </tr>\n",
       "  </thead>\n",
       "  <tbody>\n",
       "    <tr>\n",
       "      <th>0</th>\n",
       "      <td>aakdoghgcp.mp4</td>\n",
       "      <td>0.849930</td>\n",
       "      <td>1</td>\n",
       "    </tr>\n",
       "    <tr>\n",
       "      <th>1</th>\n",
       "      <td>aatntbvzum.mp4</td>\n",
       "      <td>0.002464</td>\n",
       "      <td>0</td>\n",
       "    </tr>\n",
       "    <tr>\n",
       "      <th>2</th>\n",
       "      <td>acdlfavijf.mp4</td>\n",
       "      <td>0.989828</td>\n",
       "      <td>1</td>\n",
       "    </tr>\n",
       "    <tr>\n",
       "      <th>3</th>\n",
       "      <td>acffugkzgj.mp4</td>\n",
       "      <td>0.999994</td>\n",
       "      <td>1</td>\n",
       "    </tr>\n",
       "    <tr>\n",
       "      <th>4</th>\n",
       "      <td>acozboebwm.mp4</td>\n",
       "      <td>0.176879</td>\n",
       "      <td>0</td>\n",
       "    </tr>\n",
       "  </tbody>\n",
       "</table>\n",
       "</div>"
      ],
      "text/plain": [
       "         filename  prediction  target\n",
       "0  aakdoghgcp.mp4    0.849930       1\n",
       "1  aatntbvzum.mp4    0.002464       0\n",
       "2  acdlfavijf.mp4    0.989828       1\n",
       "3  acffugkzgj.mp4    0.999994       1\n",
       "4  acozboebwm.mp4    0.176879       0"
      ]
     },
     "execution_count": 23,
     "metadata": {},
     "output_type": "execute_result"
    }
   ],
   "source": [
    "df_dev_pred.head()"
   ]
  },
  {
   "cell_type": "code",
   "execution_count": 24,
   "metadata": {},
   "outputs": [
    {
     "data": {
      "text/html": [
       "<div>\n",
       "<style scoped>\n",
       "    .dataframe tbody tr th:only-of-type {\n",
       "        vertical-align: middle;\n",
       "    }\n",
       "\n",
       "    .dataframe tbody tr th {\n",
       "        vertical-align: top;\n",
       "    }\n",
       "\n",
       "    .dataframe thead th {\n",
       "        text-align: right;\n",
       "    }\n",
       "</style>\n",
       "<table border=\"1\" class=\"dataframe\">\n",
       "  <thead>\n",
       "    <tr style=\"text-align: right;\">\n",
       "      <th></th>\n",
       "      <th>filename</th>\n",
       "      <th>prediction</th>\n",
       "      <th>target</th>\n",
       "    </tr>\n",
       "  </thead>\n",
       "  <tbody>\n",
       "    <tr>\n",
       "      <th>0</th>\n",
       "      <td>aaeflzzhvy.mp4</td>\n",
       "      <td>0.999996</td>\n",
       "      <td>1</td>\n",
       "    </tr>\n",
       "    <tr>\n",
       "      <th>1</th>\n",
       "      <td>aafkeenkqm.mp4</td>\n",
       "      <td>0.999579</td>\n",
       "      <td>1</td>\n",
       "    </tr>\n",
       "    <tr>\n",
       "      <th>2</th>\n",
       "      <td>abhssqzhxu.mp4</td>\n",
       "      <td>0.174179</td>\n",
       "      <td>0</td>\n",
       "    </tr>\n",
       "    <tr>\n",
       "      <th>3</th>\n",
       "      <td>ablakozzyi.mp4</td>\n",
       "      <td>0.999857</td>\n",
       "      <td>1</td>\n",
       "    </tr>\n",
       "    <tr>\n",
       "      <th>4</th>\n",
       "      <td>ablzgowmwo.mp4</td>\n",
       "      <td>0.132307</td>\n",
       "      <td>0</td>\n",
       "    </tr>\n",
       "  </tbody>\n",
       "</table>\n",
       "</div>"
      ],
      "text/plain": [
       "         filename  prediction  target\n",
       "0  aaeflzzhvy.mp4    0.999996       1\n",
       "1  aafkeenkqm.mp4    0.999579       1\n",
       "2  abhssqzhxu.mp4    0.174179       0\n",
       "3  ablakozzyi.mp4    0.999857       1\n",
       "4  ablzgowmwo.mp4    0.132307       0"
      ]
     },
     "execution_count": 24,
     "metadata": {},
     "output_type": "execute_result"
    }
   ],
   "source": [
    "df_test_pred.head()"
   ]
  },
  {
   "cell_type": "code",
   "execution_count": 25,
   "metadata": {},
   "outputs": [],
   "source": [
    "df_dev_pred.to_csv('results_DEV/DEV_PREDS_{}.csv'.format(checkpoint_name.split('.')[0]))\n",
    "df_test_pred.to_csv('results_TEST/TEST_PREDS_{}.csv'.format(checkpoint_name.split('.')[0]))"
   ]
  },
  {
   "cell_type": "markdown",
   "metadata": {},
   "source": [
    "# 4. EfficientNet-B3 (undersampling + normalized)\n",
    "\n",
    "##### (2020-03-14_07-37-44_efficientnet-b3-radam-lookahead-baseline-undersampling_994986_ep3.pt)"
   ]
  },
  {
   "cell_type": "code",
   "execution_count": 38,
   "metadata": {},
   "outputs": [
    {
     "name": "stderr",
     "output_type": "stream",
     "text": [
      "dev: 100%|██████████| 169/169 [00:29<00:00,  5.75it/s]\n",
      "test: 100%|██████████| 169/169 [00:29<00:00,  5.74it/s]"
     ]
    },
    {
     "name": "stdout",
     "output_type": "stream",
     "text": [
      "CPU times: user 43.6 s, sys: 12.5 s, total: 56.1 s\n",
      "Wall time: 59.2 s\n"
     ]
    },
    {
     "name": "stderr",
     "output_type": "stream",
     "text": [
      "\n"
     ]
    }
   ],
   "source": [
    "%%time\n",
    "\n",
    "checkpoint_name = '2020-03-14_07-37-44_efficientnet-b3-radam-lookahead-baseline-undersampling_994986_ep3.pt'\n",
    "checkpoint = torch.load(os.path.join('models_checkpoints', checkpoint_name), map_location=device)\n",
    "\n",
    "custom_transforms = transforms.Compose([\n",
    "#     transforms.Resize((224,224)), \n",
    "    transforms.ToTensor(),\n",
    "    transforms.Normalize(mean=[0.485, 0.456, 0.406], std=[0.229, 0.224, 0.225])\n",
    "])\n",
    "\n",
    "dataset_dev = CustomDataset(faces_paths=dev_faces, faces_labels=dev_target, datatype='dev', transform=custom_transforms)\n",
    "dataset_test = CustomDataset(faces_paths=test_faces, faces_labels=test_target, datatype='test', transform=custom_transforms)\n",
    "\n",
    "dev_loader = DataLoader(dataset_dev, batch_size=batch_size, shuffle=False, num_workers=num_workers)\n",
    "test_loader = DataLoader(dataset_test, batch_size=batch_size, shuffle=False, num_workers=num_workers)\n",
    "\n",
    "y_dev_pred = np.zeros(len(dataset_dev))\n",
    "y_test_pred = np.zeros(len(dataset_test))\n",
    "\n",
    "model = prepare_model(checkpoint, model_name='efficientnet-b3')\n",
    "with torch.no_grad():\n",
    "    for i, (data, target) in enumerate(tqdm(dev_loader, desc='dev')):\n",
    "        data, target = data.to(device=device).float(), target.to(device=device)\n",
    "        output = model(data)\n",
    "        output = nn.Softmax(dim=1)(output)\n",
    "        y_dev_pred[i * batch_size:(i+1) * batch_size] = output[:, 1].detach().cpu().numpy()\n",
    "\n",
    "with torch.no_grad():\n",
    "    for i, (data, target) in enumerate(tqdm(test_loader, desc='test')):\n",
    "        data, target = data.to(device=device).float(), target.to(device=device)\n",
    "        output = model(data)\n",
    "        output = nn.Softmax(dim=1)(output)\n",
    "        y_test_pred[i * batch_size:(i+1) * batch_size] = output[:, 1].detach().cpu().numpy()"
   ]
  },
  {
   "cell_type": "code",
   "execution_count": 39,
   "metadata": {},
   "outputs": [
    {
     "data": {
      "image/png": "[encoded data removed]",
      "text/plain": [
       "<Figure size 1080x432 with 2 Axes>"
      ]
     },
     "metadata": {
      "needs_background": "light"
     },
     "output_type": "display_data"
    }
   ],
   "source": [
    "fig, ax = plt.subplots(nrows=1, ncols=2, figsize=(15, 6))\n",
    "\n",
    "ax[0].set_title('{}\\nDEV SET\\nFAKE: {}, REAL: {}\\nAUC-ROC: {:.6f}'.format(\n",
    "    checkpoint_name,\n",
    "    (y_dev_pred > 0.5).sum(),\n",
    "    (y_dev_pred <= 0.5).sum(),\n",
    "    roc_auc_score(dev_target, y_dev_pred)\n",
    "))\n",
    "ax[0].hist(y_dev_pred, bins=10)\n",
    "\n",
    "ax[1].set_title('TEST SET\\nFAKE: {}, REAL: {}\\nAUC-ROC: {:.6f}'.format(\n",
    "    (y_test_pred > 0.5).sum(),\n",
    "    (y_test_pred <= 0.5).sum(),\n",
    "    roc_auc_score(test_target, y_test_pred)\n",
    "))\n",
    "ax[1].hist(y_test_pred, bins=10)\n",
    "\n",
    "plt.show()"
   ]
  },
  {
   "cell_type": "code",
   "execution_count": 40,
   "metadata": {},
   "outputs": [
    {
     "data": {
      "text/plain": [
       "(0.9983893101054896, 0.9984723176597624)"
      ]
     },
     "execution_count": 40,
     "metadata": {},
     "output_type": "execute_result"
    }
   ],
   "source": [
    "df_dev_pred = pd.DataFrame({'filename': dev_videos, 'prediction': y_dev_pred, 'target': dev_target})\n",
    "df_dev_pred = df_dev_pred.groupby('filename').mean().reset_index()\n",
    "df_test_pred = pd.DataFrame({'filename': test_videos, 'prediction': y_test_pred, 'target': test_target})\n",
    "df_test_pred = df_test_pred.groupby('filename').mean().reset_index()\n",
    "roc_auc_score(df_dev_pred['target'], df_dev_pred['prediction']), roc_auc_score(df_test_pred['target'], df_test_pred['prediction'])"
   ]
  },
  {
   "cell_type": "code",
   "execution_count": 41,
   "metadata": {},
   "outputs": [
    {
     "data": {
      "text/html": [
       "<div>\n",
       "<style scoped>\n",
       "    .dataframe tbody tr th:only-of-type {\n",
       "        vertical-align: middle;\n",
       "    }\n",
       "\n",
       "    .dataframe tbody tr th {\n",
       "        vertical-align: top;\n",
       "    }\n",
       "\n",
       "    .dataframe thead th {\n",
       "        text-align: right;\n",
       "    }\n",
       "</style>\n",
       "<table border=\"1\" class=\"dataframe\">\n",
       "  <thead>\n",
       "    <tr style=\"text-align: right;\">\n",
       "      <th></th>\n",
       "      <th>filename</th>\n",
       "      <th>prediction</th>\n",
       "      <th>target</th>\n",
       "    </tr>\n",
       "  </thead>\n",
       "  <tbody>\n",
       "    <tr>\n",
       "      <th>0</th>\n",
       "      <td>aakdoghgcp.mp4</td>\n",
       "      <td>0.728406</td>\n",
       "      <td>1</td>\n",
       "    </tr>\n",
       "    <tr>\n",
       "      <th>1</th>\n",
       "      <td>aatntbvzum.mp4</td>\n",
       "      <td>0.001936</td>\n",
       "      <td>0</td>\n",
       "    </tr>\n",
       "    <tr>\n",
       "      <th>2</th>\n",
       "      <td>acdlfavijf.mp4</td>\n",
       "      <td>0.993654</td>\n",
       "      <td>1</td>\n",
       "    </tr>\n",
       "    <tr>\n",
       "      <th>3</th>\n",
       "      <td>acffugkzgj.mp4</td>\n",
       "      <td>0.999999</td>\n",
       "      <td>1</td>\n",
       "    </tr>\n",
       "    <tr>\n",
       "      <th>4</th>\n",
       "      <td>acozboebwm.mp4</td>\n",
       "      <td>0.147604</td>\n",
       "      <td>0</td>\n",
       "    </tr>\n",
       "  </tbody>\n",
       "</table>\n",
       "</div>"
      ],
      "text/plain": [
       "         filename  prediction  target\n",
       "0  aakdoghgcp.mp4    0.728406       1\n",
       "1  aatntbvzum.mp4    0.001936       0\n",
       "2  acdlfavijf.mp4    0.993654       1\n",
       "3  acffugkzgj.mp4    0.999999       1\n",
       "4  acozboebwm.mp4    0.147604       0"
      ]
     },
     "execution_count": 41,
     "metadata": {},
     "output_type": "execute_result"
    }
   ],
   "source": [
    "df_dev_pred.head()"
   ]
  },
  {
   "cell_type": "code",
   "execution_count": 42,
   "metadata": {},
   "outputs": [
    {
     "data": {
      "text/html": [
       "<div>\n",
       "<style scoped>\n",
       "    .dataframe tbody tr th:only-of-type {\n",
       "        vertical-align: middle;\n",
       "    }\n",
       "\n",
       "    .dataframe tbody tr th {\n",
       "        vertical-align: top;\n",
       "    }\n",
       "\n",
       "    .dataframe thead th {\n",
       "        text-align: right;\n",
       "    }\n",
       "</style>\n",
       "<table border=\"1\" class=\"dataframe\">\n",
       "  <thead>\n",
       "    <tr style=\"text-align: right;\">\n",
       "      <th></th>\n",
       "      <th>filename</th>\n",
       "      <th>prediction</th>\n",
       "      <th>target</th>\n",
       "    </tr>\n",
       "  </thead>\n",
       "  <tbody>\n",
       "    <tr>\n",
       "      <th>0</th>\n",
       "      <td>aaeflzzhvy.mp4</td>\n",
       "      <td>1.000000</td>\n",
       "      <td>1</td>\n",
       "    </tr>\n",
       "    <tr>\n",
       "      <th>1</th>\n",
       "      <td>aafkeenkqm.mp4</td>\n",
       "      <td>0.985782</td>\n",
       "      <td>1</td>\n",
       "    </tr>\n",
       "    <tr>\n",
       "      <th>2</th>\n",
       "      <td>abhssqzhxu.mp4</td>\n",
       "      <td>0.060892</td>\n",
       "      <td>0</td>\n",
       "    </tr>\n",
       "    <tr>\n",
       "      <th>3</th>\n",
       "      <td>ablakozzyi.mp4</td>\n",
       "      <td>0.999937</td>\n",
       "      <td>1</td>\n",
       "    </tr>\n",
       "    <tr>\n",
       "      <th>4</th>\n",
       "      <td>ablzgowmwo.mp4</td>\n",
       "      <td>0.072566</td>\n",
       "      <td>0</td>\n",
       "    </tr>\n",
       "  </tbody>\n",
       "</table>\n",
       "</div>"
      ],
      "text/plain": [
       "         filename  prediction  target\n",
       "0  aaeflzzhvy.mp4    1.000000       1\n",
       "1  aafkeenkqm.mp4    0.985782       1\n",
       "2  abhssqzhxu.mp4    0.060892       0\n",
       "3  ablakozzyi.mp4    0.999937       1\n",
       "4  ablzgowmwo.mp4    0.072566       0"
      ]
     },
     "execution_count": 42,
     "metadata": {},
     "output_type": "execute_result"
    }
   ],
   "source": [
    "df_test_pred.head()"
   ]
  },
  {
   "cell_type": "code",
   "execution_count": 43,
   "metadata": {},
   "outputs": [],
   "source": [
    "df_dev_pred.to_csv('results_DEV/DEV_PREDS_{}.csv'.format(checkpoint_name.split('.')[0]))\n",
    "df_test_pred.to_csv('results_TEST/TEST_PREDS_{}.csv'.format(checkpoint_name.split('.')[0]))"
   ]
  },
  {
   "cell_type": "markdown",
   "metadata": {},
   "source": [
    "# 5. SE-ResNext-50 (undersampling + normalized)\n",
    "\n",
    "##### (2020-03-16_08-08-14_se-resnext-50-radam-lookahead-baseline-undersampling-normalized_995047_ep4.pt)"
   ]
  },
  {
   "cell_type": "code",
   "execution_count": 8,
   "metadata": {},
   "outputs": [
    {
     "name": "stderr",
     "output_type": "stream",
     "text": [
      "dev: 100%|██████████| 169/169 [00:36<00:00,  4.62it/s]\n",
      "test: 100%|██████████| 169/169 [00:35<00:00,  4.73it/s]"
     ]
    },
    {
     "name": "stdout",
     "output_type": "stream",
     "text": [
      "CPU times: user 54.8 s, sys: 17.8 s, total: 1min 12s\n",
      "Wall time: 1min 20s\n"
     ]
    },
    {
     "name": "stderr",
     "output_type": "stream",
     "text": [
      "\n"
     ]
    }
   ],
   "source": [
    "%%time\n",
    "\n",
    "checkpoint_name = '2020-03-16_08-08-14_se-resnext-50-radam-lookahead-baseline-undersampling-normalized_995047_ep4.pt'\n",
    "checkpoint = torch.load(os.path.join('models_checkpoints', checkpoint_name), map_location=device)\n",
    "\n",
    "custom_transforms = transforms.Compose([\n",
    "#     transforms.Resize((224,224)), \n",
    "    transforms.ToTensor(),\n",
    "    transforms.Normalize(mean=[0.485, 0.456, 0.406], std=[0.229, 0.224, 0.225])\n",
    "])\n",
    "\n",
    "dataset_dev = CustomDataset(faces_paths=dev_faces, faces_labels=dev_target, datatype='dev', transform=custom_transforms)\n",
    "dataset_test = CustomDataset(faces_paths=test_faces, faces_labels=test_target, datatype='test', transform=custom_transforms)\n",
    "\n",
    "dev_loader = DataLoader(dataset_dev, batch_size=batch_size, shuffle=False, num_workers=num_workers)\n",
    "test_loader = DataLoader(dataset_test, batch_size=batch_size, shuffle=False, num_workers=num_workers)\n",
    "\n",
    "y_dev_pred = np.zeros(len(dataset_dev))\n",
    "y_test_pred = np.zeros(len(dataset_test))\n",
    "\n",
    "model = prepare_model(checkpoint, model_name='se_resnext50')\n",
    "with torch.no_grad():\n",
    "    for i, (data, target) in enumerate(tqdm(dev_loader, desc='dev')):\n",
    "        data, target = data.to(device=device).float(), target.to(device=device)\n",
    "        output = model(data)\n",
    "        output = nn.Softmax(dim=1)(output)\n",
    "        y_dev_pred[i * batch_size:(i+1) * batch_size] = output[:, 1].detach().cpu().numpy()\n",
    "\n",
    "with torch.no_grad():\n",
    "    for i, (data, target) in enumerate(tqdm(test_loader, desc='test')):\n",
    "        data, target = data.to(device=device).float(), target.to(device=device)\n",
    "        output = model(data)\n",
    "        output = nn.Softmax(dim=1)(output)\n",
    "        y_test_pred[i * batch_size:(i+1) * batch_size] = output[:, 1].detach().cpu().numpy()"
   ]
  },
  {
   "cell_type": "code",
   "execution_count": 9,
   "metadata": {},
   "outputs": [
    {
     "data": {
      "image/png": "[encoded data removed]",
      "text/plain": [
       "<Figure size 1080x432 with 2 Axes>"
      ]
     },
     "metadata": {
      "needs_background": "light"
     },
     "output_type": "display_data"
    }
   ],
   "source": [
    "fig, ax = plt.subplots(nrows=1, ncols=2, figsize=(15, 6))\n",
    "\n",
    "ax[0].set_title('{}\\nDEV SET\\nFAKE: {}, REAL: {}\\nAUC-ROC: {:.6f}'.format(\n",
    "    checkpoint_name,\n",
    "    (y_dev_pred > 0.5).sum(),\n",
    "    (y_dev_pred <= 0.5).sum(),\n",
    "    roc_auc_score(dev_target, y_dev_pred)\n",
    "))\n",
    "ax[0].hist(y_dev_pred, bins=10)\n",
    "\n",
    "ax[1].set_title('TEST SET\\nFAKE: {}, REAL: {}\\nAUC-ROC: {:.6f}'.format(\n",
    "    (y_test_pred > 0.5).sum(),\n",
    "    (y_test_pred <= 0.5).sum(),\n",
    "    roc_auc_score(test_target, y_test_pred)\n",
    "))\n",
    "ax[1].hist(y_test_pred, bins=10)\n",
    "\n",
    "plt.show()"
   ]
  },
  {
   "cell_type": "code",
   "execution_count": 10,
   "metadata": {},
   "outputs": [
    {
     "data": {
      "text/plain": [
       "(0.9980290242080333, 0.997956954942574)"
      ]
     },
     "execution_count": 10,
     "metadata": {},
     "output_type": "execute_result"
    }
   ],
   "source": [
    "df_dev_pred = pd.DataFrame({'filename': dev_videos, 'prediction': y_dev_pred, 'target': dev_target})\n",
    "df_dev_pred = df_dev_pred.groupby('filename').mean().reset_index()\n",
    "df_test_pred = pd.DataFrame({'filename': test_videos, 'prediction': y_test_pred, 'target': test_target})\n",
    "df_test_pred = df_test_pred.groupby('filename').mean().reset_index()\n",
    "roc_auc_score(df_dev_pred['target'], df_dev_pred['prediction']), roc_auc_score(df_test_pred['target'], df_test_pred['prediction'])"
   ]
  },
  {
   "cell_type": "code",
   "execution_count": 11,
   "metadata": {},
   "outputs": [
    {
     "data": {
      "text/html": [
       "<div>\n",
       "<style scoped>\n",
       "    .dataframe tbody tr th:only-of-type {\n",
       "        vertical-align: middle;\n",
       "    }\n",
       "\n",
       "    .dataframe tbody tr th {\n",
       "        vertical-align: top;\n",
       "    }\n",
       "\n",
       "    .dataframe thead th {\n",
       "        text-align: right;\n",
       "    }\n",
       "</style>\n",
       "<table border=\"1\" class=\"dataframe\">\n",
       "  <thead>\n",
       "    <tr style=\"text-align: right;\">\n",
       "      <th></th>\n",
       "      <th>filename</th>\n",
       "      <th>prediction</th>\n",
       "      <th>target</th>\n",
       "    </tr>\n",
       "  </thead>\n",
       "  <tbody>\n",
       "    <tr>\n",
       "      <th>0</th>\n",
       "      <td>aakdoghgcp.mp4</td>\n",
       "      <td>0.698786</td>\n",
       "      <td>1</td>\n",
       "    </tr>\n",
       "    <tr>\n",
       "      <th>1</th>\n",
       "      <td>aatntbvzum.mp4</td>\n",
       "      <td>0.115373</td>\n",
       "      <td>0</td>\n",
       "    </tr>\n",
       "    <tr>\n",
       "      <th>2</th>\n",
       "      <td>acdlfavijf.mp4</td>\n",
       "      <td>0.919238</td>\n",
       "      <td>1</td>\n",
       "    </tr>\n",
       "    <tr>\n",
       "      <th>3</th>\n",
       "      <td>acffugkzgj.mp4</td>\n",
       "      <td>1.000000</td>\n",
       "      <td>1</td>\n",
       "    </tr>\n",
       "    <tr>\n",
       "      <th>4</th>\n",
       "      <td>acozboebwm.mp4</td>\n",
       "      <td>0.353536</td>\n",
       "      <td>0</td>\n",
       "    </tr>\n",
       "  </tbody>\n",
       "</table>\n",
       "</div>"
      ],
      "text/plain": [
       "         filename  prediction  target\n",
       "0  aakdoghgcp.mp4    0.698786       1\n",
       "1  aatntbvzum.mp4    0.115373       0\n",
       "2  acdlfavijf.mp4    0.919238       1\n",
       "3  acffugkzgj.mp4    1.000000       1\n",
       "4  acozboebwm.mp4    0.353536       0"
      ]
     },
     "execution_count": 11,
     "metadata": {},
     "output_type": "execute_result"
    }
   ],
   "source": [
    "df_dev_pred.head()"
   ]
  },
  {
   "cell_type": "code",
   "execution_count": 12,
   "metadata": {},
   "outputs": [
    {
     "data": {
      "text/html": [
       "<div>\n",
       "<style scoped>\n",
       "    .dataframe tbody tr th:only-of-type {\n",
       "        vertical-align: middle;\n",
       "    }\n",
       "\n",
       "    .dataframe tbody tr th {\n",
       "        vertical-align: top;\n",
       "    }\n",
       "\n",
       "    .dataframe thead th {\n",
       "        text-align: right;\n",
       "    }\n",
       "</style>\n",
       "<table border=\"1\" class=\"dataframe\">\n",
       "  <thead>\n",
       "    <tr style=\"text-align: right;\">\n",
       "      <th></th>\n",
       "      <th>filename</th>\n",
       "      <th>prediction</th>\n",
       "      <th>target</th>\n",
       "    </tr>\n",
       "  </thead>\n",
       "  <tbody>\n",
       "    <tr>\n",
       "      <th>0</th>\n",
       "      <td>aaeflzzhvy.mp4</td>\n",
       "      <td>1.000000</td>\n",
       "      <td>1</td>\n",
       "    </tr>\n",
       "    <tr>\n",
       "      <th>1</th>\n",
       "      <td>aafkeenkqm.mp4</td>\n",
       "      <td>0.996469</td>\n",
       "      <td>1</td>\n",
       "    </tr>\n",
       "    <tr>\n",
       "      <th>2</th>\n",
       "      <td>abhssqzhxu.mp4</td>\n",
       "      <td>0.921640</td>\n",
       "      <td>0</td>\n",
       "    </tr>\n",
       "    <tr>\n",
       "      <th>3</th>\n",
       "      <td>ablakozzyi.mp4</td>\n",
       "      <td>1.000000</td>\n",
       "      <td>1</td>\n",
       "    </tr>\n",
       "    <tr>\n",
       "      <th>4</th>\n",
       "      <td>ablzgowmwo.mp4</td>\n",
       "      <td>0.265427</td>\n",
       "      <td>0</td>\n",
       "    </tr>\n",
       "  </tbody>\n",
       "</table>\n",
       "</div>"
      ],
      "text/plain": [
       "         filename  prediction  target\n",
       "0  aaeflzzhvy.mp4    1.000000       1\n",
       "1  aafkeenkqm.mp4    0.996469       1\n",
       "2  abhssqzhxu.mp4    0.921640       0\n",
       "3  ablakozzyi.mp4    1.000000       1\n",
       "4  ablzgowmwo.mp4    0.265427       0"
      ]
     },
     "execution_count": 12,
     "metadata": {},
     "output_type": "execute_result"
    }
   ],
   "source": [
    "df_test_pred.head()"
   ]
  },
  {
   "cell_type": "code",
   "execution_count": 13,
   "metadata": {},
   "outputs": [],
   "source": [
    "df_dev_pred.to_csv('results_DEV/DEV_PREDS_{}.csv'.format(checkpoint_name.split('.')[0]))\n",
    "df_test_pred.to_csv('results_TEST/TEST_PREDS_{}.csv'.format(checkpoint_name.split('.')[0]))"
   ]
  }
 ],
 "metadata": {
  "kernelspec": {
   "display_name": "Python 3",
   "language": "python",
   "name": "python3"
  },
  "language_info": {
   "codemirror_mode": {
    "name": "ipython",
    "version": 3
   },
   "file_extension": ".py",
   "mimetype": "text/x-python",
   "name": "python",
   "nbconvert_exporter": "python",
   "pygments_lexer": "ipython3",
   "version": "3.5.3"
  }
 },
 "nbformat": 4,
 "nbformat_minor": 2
}
