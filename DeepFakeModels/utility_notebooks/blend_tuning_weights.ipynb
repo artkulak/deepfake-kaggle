{
 "cells": [
  {
   "cell_type": "code",
   "execution_count": 1,
   "metadata": {},
   "outputs": [
    {
     "data": {
      "text/plain": [
       "['DEV_PREDS_2020-03-03_07-25-04_efficientnet-b4-radam-lookahead-baseline_994682_ep4.csv',\n",
       " 'DEV_PREDS_2020-03-12_15-55-44_efficientnet-b4-radam-lookahead-baseline-undersampling_995658_ep4.csv',\n",
       " 'DEV_PREDS_2020-03-14_07-37-44_efficientnet-b3-radam-lookahead-baseline-undersampling_994986_ep3.csv',\n",
       " 'DEV_PREDS_2020-03-16_08-08-14_se-resnext-50-radam-lookahead-baseline-undersampling-normalized_995047_ep4.csv',\n",
       " 'DEV_PREDS_2020-03-12_12-20-58_efficientnet-b4-radam-lookahead-baseline-undersampling_995090_ep3.csv']"
      ]
     },
     "execution_count": 1,
     "metadata": {},
     "output_type": "execute_result"
    }
   ],
   "source": [
    "import datetime\n",
    "import numpy as np\n",
    "import os\n",
    "import pandas as pd\n",
    "import time\n",
    "\n",
    "from copy import deepcopy\n",
    "from scipy.stats import rankdata\n",
    "from sklearn.metrics import log_loss\n",
    "from sklearn.metrics import roc_auc_score\n",
    "\n",
    "def timedelta(seconds):\n",
    "    return str(datetime.timedelta(seconds=seconds)).split('.')[0]\n",
    "\n",
    "os.listdir('results_DEV')"
   ]
  },
  {
   "cell_type": "code",
   "execution_count": 2,
   "metadata": {},
   "outputs": [
    {
     "data": {
      "text/plain": [
       "((1140,), (1140, 5), (1143,), (1143, 5))"
      ]
     },
     "execution_count": 2,
     "metadata": {},
     "output_type": "execute_result"
    }
   ],
   "source": [
    "DEV_DIR = 'results_DEV'\n",
    "TEST_DIR = 'results_TEST'\n",
    "\n",
    "models_names = [\n",
    "    '2020-03-03_07-25-04_efficientnet-b4-radam-lookahead-baseline_994682_ep4',\n",
    "    '2020-03-12_12-20-58_efficientnet-b4-radam-lookahead-baseline-undersampling_995090_ep3',\n",
    "    '2020-03-12_15-55-44_efficientnet-b4-radam-lookahead-baseline-undersampling_995658_ep4',\n",
    "    '2020-03-14_07-37-44_efficientnet-b3-radam-lookahead-baseline-undersampling_994986_ep3',\n",
    "    '2020-03-16_08-08-14_se-resnext-50-radam-lookahead-baseline-undersampling-normalized_995047_ep4'\n",
    "]\n",
    "\n",
    "NUM_MODELS = len(models_names)\n",
    "\n",
    "dev_preds_files = ['DEV_PREDS_' + mn + '.csv' for mn in models_names]\n",
    "\n",
    "test_preds_files = ['TEST_PREDS_' + mn + '.csv' for mn in models_names]\n",
    "\n",
    "dev_target = pd.read_csv(os.path.join(DEV_DIR, dev_preds_files[0]))['target'].values\n",
    "test_target = pd.read_csv(os.path.join(TEST_DIR, test_preds_files[0]))['target'].values\n",
    "\n",
    "dev_model_preds = pd.DataFrame(np.array([pd.read_csv(os.path.join(DEV_DIR, dev_preds_files[i]))['prediction'].values for i in range(len(dev_preds_files))]).T, columns=models_names)\n",
    "test_model_preds = pd.DataFrame(np.array([pd.read_csv(os.path.join(TEST_DIR, test_preds_files[i]))['prediction'].values for i in range(len(test_preds_files))]).T, columns=models_names)\n",
    "dev_target.shape, dev_model_preds.shape, test_target.shape, test_model_preds.shape"
   ]
  },
  {
   "cell_type": "code",
   "execution_count": 3,
   "metadata": {},
   "outputs": [
    {
     "data": {
      "text/html": [
       "<div>\n",
       "<style scoped>\n",
       "    .dataframe tbody tr th:only-of-type {\n",
       "        vertical-align: middle;\n",
       "    }\n",
       "\n",
       "    .dataframe tbody tr th {\n",
       "        vertical-align: top;\n",
       "    }\n",
       "\n",
       "    .dataframe thead th {\n",
       "        text-align: right;\n",
       "    }\n",
       "</style>\n",
       "<table border=\"1\" class=\"dataframe\">\n",
       "  <thead>\n",
       "    <tr style=\"text-align: right;\">\n",
       "      <th></th>\n",
       "      <th>2020-03-03_07-25-04_efficientnet-b4-radam-lookahead-baseline_994682_ep4</th>\n",
       "      <th>2020-03-12_12-20-58_efficientnet-b4-radam-lookahead-baseline-undersampling_995090_ep3</th>\n",
       "      <th>2020-03-12_15-55-44_efficientnet-b4-radam-lookahead-baseline-undersampling_995658_ep4</th>\n",
       "      <th>2020-03-14_07-37-44_efficientnet-b3-radam-lookahead-baseline-undersampling_994986_ep3</th>\n",
       "      <th>2020-03-16_08-08-14_se-resnext-50-radam-lookahead-baseline-undersampling-normalized_995047_ep4</th>\n",
       "    </tr>\n",
       "  </thead>\n",
       "  <tbody>\n",
       "    <tr>\n",
       "      <th>0</th>\n",
       "      <td>0.985469</td>\n",
       "      <td>0.716145</td>\n",
       "      <td>0.849930</td>\n",
       "      <td>0.728406</td>\n",
       "      <td>0.698786</td>\n",
       "    </tr>\n",
       "    <tr>\n",
       "      <th>1</th>\n",
       "      <td>0.130444</td>\n",
       "      <td>0.128722</td>\n",
       "      <td>0.002464</td>\n",
       "      <td>0.001936</td>\n",
       "      <td>0.115373</td>\n",
       "    </tr>\n",
       "    <tr>\n",
       "      <th>2</th>\n",
       "      <td>0.999233</td>\n",
       "      <td>0.952975</td>\n",
       "      <td>0.989828</td>\n",
       "      <td>0.993654</td>\n",
       "      <td>0.919238</td>\n",
       "    </tr>\n",
       "    <tr>\n",
       "      <th>3</th>\n",
       "      <td>0.999994</td>\n",
       "      <td>0.999995</td>\n",
       "      <td>0.999994</td>\n",
       "      <td>0.999999</td>\n",
       "      <td>1.000000</td>\n",
       "    </tr>\n",
       "    <tr>\n",
       "      <th>4</th>\n",
       "      <td>0.602908</td>\n",
       "      <td>0.351408</td>\n",
       "      <td>0.176879</td>\n",
       "      <td>0.147604</td>\n",
       "      <td>0.353536</td>\n",
       "    </tr>\n",
       "  </tbody>\n",
       "</table>\n",
       "</div>"
      ],
      "text/plain": [
       "   2020-03-03_07-25-04_efficientnet-b4-radam-lookahead-baseline_994682_ep4  \\\n",
       "0                                           0.985469                         \n",
       "1                                           0.130444                         \n",
       "2                                           0.999233                         \n",
       "3                                           0.999994                         \n",
       "4                                           0.602908                         \n",
       "\n",
       "   2020-03-12_12-20-58_efficientnet-b4-radam-lookahead-baseline-undersampling_995090_ep3  \\\n",
       "0                                           0.716145                                       \n",
       "1                                           0.128722                                       \n",
       "2                                           0.952975                                       \n",
       "3                                           0.999995                                       \n",
       "4                                           0.351408                                       \n",
       "\n",
       "   2020-03-12_15-55-44_efficientnet-b4-radam-lookahead-baseline-undersampling_995658_ep4  \\\n",
       "0                                           0.849930                                       \n",
       "1                                           0.002464                                       \n",
       "2                                           0.989828                                       \n",
       "3                                           0.999994                                       \n",
       "4                                           0.176879                                       \n",
       "\n",
       "   2020-03-14_07-37-44_efficientnet-b3-radam-lookahead-baseline-undersampling_994986_ep3  \\\n",
       "0                                           0.728406                                       \n",
       "1                                           0.001936                                       \n",
       "2                                           0.993654                                       \n",
       "3                                           0.999999                                       \n",
       "4                                           0.147604                                       \n",
       "\n",
       "   2020-03-16_08-08-14_se-resnext-50-radam-lookahead-baseline-undersampling-normalized_995047_ep4  \n",
       "0                                           0.698786                                               \n",
       "1                                           0.115373                                               \n",
       "2                                           0.919238                                               \n",
       "3                                           1.000000                                               \n",
       "4                                           0.353536                                               "
      ]
     },
     "execution_count": 3,
     "metadata": {},
     "output_type": "execute_result"
    }
   ],
   "source": [
    "dev_model_preds.head()"
   ]
  },
  {
   "cell_type": "code",
   "execution_count": 4,
   "metadata": {},
   "outputs": [
    {
     "data": {
      "text/html": [
       "<div>\n",
       "<style scoped>\n",
       "    .dataframe tbody tr th:only-of-type {\n",
       "        vertical-align: middle;\n",
       "    }\n",
       "\n",
       "    .dataframe tbody tr th {\n",
       "        vertical-align: top;\n",
       "    }\n",
       "\n",
       "    .dataframe thead th {\n",
       "        text-align: right;\n",
       "    }\n",
       "</style>\n",
       "<table border=\"1\" class=\"dataframe\">\n",
       "  <thead>\n",
       "    <tr style=\"text-align: right;\">\n",
       "      <th></th>\n",
       "      <th>2020-03-03_07-25-04_efficientnet-b4-radam-lookahead-baseline_994682_ep4</th>\n",
       "      <th>2020-03-12_12-20-58_efficientnet-b4-radam-lookahead-baseline-undersampling_995090_ep3</th>\n",
       "      <th>2020-03-12_15-55-44_efficientnet-b4-radam-lookahead-baseline-undersampling_995658_ep4</th>\n",
       "      <th>2020-03-14_07-37-44_efficientnet-b3-radam-lookahead-baseline-undersampling_994986_ep3</th>\n",
       "      <th>2020-03-16_08-08-14_se-resnext-50-radam-lookahead-baseline-undersampling-normalized_995047_ep4</th>\n",
       "    </tr>\n",
       "  </thead>\n",
       "  <tbody>\n",
       "    <tr>\n",
       "      <th>0</th>\n",
       "      <td>0.999989</td>\n",
       "      <td>0.999993</td>\n",
       "      <td>0.999996</td>\n",
       "      <td>1.000000</td>\n",
       "      <td>1.000000</td>\n",
       "    </tr>\n",
       "    <tr>\n",
       "      <th>1</th>\n",
       "      <td>0.998493</td>\n",
       "      <td>0.993685</td>\n",
       "      <td>0.999579</td>\n",
       "      <td>0.985782</td>\n",
       "      <td>0.996469</td>\n",
       "    </tr>\n",
       "    <tr>\n",
       "      <th>2</th>\n",
       "      <td>0.555657</td>\n",
       "      <td>0.315384</td>\n",
       "      <td>0.174179</td>\n",
       "      <td>0.060892</td>\n",
       "      <td>0.921640</td>\n",
       "    </tr>\n",
       "    <tr>\n",
       "      <th>3</th>\n",
       "      <td>0.999989</td>\n",
       "      <td>0.975139</td>\n",
       "      <td>0.999857</td>\n",
       "      <td>0.999937</td>\n",
       "      <td>1.000000</td>\n",
       "    </tr>\n",
       "    <tr>\n",
       "      <th>4</th>\n",
       "      <td>0.294504</td>\n",
       "      <td>0.140292</td>\n",
       "      <td>0.132307</td>\n",
       "      <td>0.072566</td>\n",
       "      <td>0.265427</td>\n",
       "    </tr>\n",
       "  </tbody>\n",
       "</table>\n",
       "</div>"
      ],
      "text/plain": [
       "   2020-03-03_07-25-04_efficientnet-b4-radam-lookahead-baseline_994682_ep4  \\\n",
       "0                                           0.999989                         \n",
       "1                                           0.998493                         \n",
       "2                                           0.555657                         \n",
       "3                                           0.999989                         \n",
       "4                                           0.294504                         \n",
       "\n",
       "   2020-03-12_12-20-58_efficientnet-b4-radam-lookahead-baseline-undersampling_995090_ep3  \\\n",
       "0                                           0.999993                                       \n",
       "1                                           0.993685                                       \n",
       "2                                           0.315384                                       \n",
       "3                                           0.975139                                       \n",
       "4                                           0.140292                                       \n",
       "\n",
       "   2020-03-12_15-55-44_efficientnet-b4-radam-lookahead-baseline-undersampling_995658_ep4  \\\n",
       "0                                           0.999996                                       \n",
       "1                                           0.999579                                       \n",
       "2                                           0.174179                                       \n",
       "3                                           0.999857                                       \n",
       "4                                           0.132307                                       \n",
       "\n",
       "   2020-03-14_07-37-44_efficientnet-b3-radam-lookahead-baseline-undersampling_994986_ep3  \\\n",
       "0                                           1.000000                                       \n",
       "1                                           0.985782                                       \n",
       "2                                           0.060892                                       \n",
       "3                                           0.999937                                       \n",
       "4                                           0.072566                                       \n",
       "\n",
       "   2020-03-16_08-08-14_se-resnext-50-radam-lookahead-baseline-undersampling-normalized_995047_ep4  \n",
       "0                                           1.000000                                               \n",
       "1                                           0.996469                                               \n",
       "2                                           0.921640                                               \n",
       "3                                           1.000000                                               \n",
       "4                                           0.265427                                               "
      ]
     },
     "execution_count": 4,
     "metadata": {},
     "output_type": "execute_result"
    }
   ],
   "source": [
    "test_model_preds.head()"
   ]
  },
  {
   "cell_type": "code",
   "execution_count": 5,
   "metadata": {},
   "outputs": [
    {
     "name": "stdout",
     "output_type": "stream",
     "text": [
      "DEV\n",
      "2020-03-14_07-37-44_efficientnet-b3-radam-lookahead-baseline-undersampling_994986_ep3 0.9983893101054896\n",
      "2020-03-03_07-25-04_efficientnet-b4-radam-lookahead-baseline_994682_ep4 0.9980714107842047\n",
      "2020-03-16_08-08-14_se-resnext-50-radam-lookahead-baseline-undersampling-normalized_995047_ep4 0.9980290242080333\n",
      "2020-03-12_15-55-44_efficientnet-b4-radam-lookahead-baseline-undersampling_995658_ep4 0.9979813393098406\n",
      "2020-03-12_12-20-58_efficientnet-b4-radam-lookahead-baseline-undersampling_995090_ep3 0.9979389527336693\n",
      "TEST\n",
      "2020-03-12_12-20-58_efficientnet-b4-radam-lookahead-baseline-undersampling_995090_ep3 0.99916560321979\n",
      "2020-03-12_15-55-44_efficientnet-b4-radam-lookahead-baseline-undersampling_995658_ep4 0.9987790811818986\n",
      "2020-03-03_07-25-04_efficientnet-b4-radam-lookahead-baseline_994682_ep4 0.9986441052321586\n",
      "2020-03-14_07-37-44_efficientnet-b3-radam-lookahead-baseline-undersampling_994986_ep3 0.9984723176597624\n",
      "2020-03-16_08-08-14_se-resnext-50-radam-lookahead-baseline-undersampling-normalized_995047_ep4 0.997956954942574\n"
     ]
    }
   ],
   "source": [
    "dev_scores = {}\n",
    "test_scores = {}\n",
    "for m in models_names:\n",
    "    dev_scores[m] = roc_auc_score(dev_target, dev_model_preds[m].values)\n",
    "    test_scores[m] = roc_auc_score(test_target, test_model_preds[m].values)\n",
    "print('DEV')\n",
    "for k, v in sorted(dev_scores.items(), key=lambda x: x[1], reverse=True):\n",
    "    print(k, v)\n",
    "print('TEST')\n",
    "for k, v in sorted(test_scores.items(), key=lambda x: x[1], reverse=True):\n",
    "    print(k, v)"
   ]
  },
  {
   "cell_type": "code",
   "execution_count": 6,
   "metadata": {},
   "outputs": [
    {
     "name": "stdout",
     "output_type": "stream",
     "text": [
      "DEV\n",
      "2020-03-14_07-37-44_efficientnet-b3-radam-lookahead-baseline-undersampling_994986_ep3 0.05954510291565401\n",
      "2020-03-12_12-20-58_efficientnet-b4-radam-lookahead-baseline-undersampling_995090_ep3 0.05472430936050911\n",
      "2020-03-03_07-25-04_efficientnet-b4-radam-lookahead-baseline_994682_ep4 0.05164911964365804\n",
      "2020-03-12_15-55-44_efficientnet-b4-radam-lookahead-baseline-undersampling_995658_ep4 0.050398067368545484\n",
      "2020-03-16_08-08-14_se-resnext-50-radam-lookahead-baseline-undersampling-normalized_995047_ep4 0.049711863692772994\n",
      "TEST\n",
      "2020-03-14_07-37-44_efficientnet-b3-radam-lookahead-baseline-undersampling_994986_ep3 0.0660715595858408\n",
      "2020-03-12_12-20-58_efficientnet-b4-radam-lookahead-baseline-undersampling_995090_ep3 0.054693871918473635\n",
      "2020-03-16_08-08-14_se-resnext-50-radam-lookahead-baseline-undersampling-normalized_995047_ep4 0.052360825792158755\n",
      "2020-03-12_15-55-44_efficientnet-b4-radam-lookahead-baseline-undersampling_995658_ep4 0.05230812505607138\n",
      "2020-03-03_07-25-04_efficientnet-b4-radam-lookahead-baseline_994682_ep4 0.04923896633195889\n"
     ]
    }
   ],
   "source": [
    "dev_scores = {}\n",
    "test_scores = {}\n",
    "for m in models_names:\n",
    "    dev_scores[m] = log_loss(dev_target, dev_model_preds[m].values)\n",
    "    test_scores[m] = log_loss(test_target, test_model_preds[m].values)\n",
    "print('DEV')\n",
    "for k, v in sorted(dev_scores.items(), key=lambda x: x[1], reverse=True):\n",
    "    print(k, v)\n",
    "print('TEST')\n",
    "for k, v in sorted(test_scores.items(), key=lambda x: x[1], reverse=True):\n",
    "    print(k, v)"
   ]
  },
  {
   "cell_type": "code",
   "execution_count": 7,
   "metadata": {},
   "outputs": [
    {
     "name": "stdout",
     "output_type": "stream",
     "text": [
      "geometric 0.9987760876130529\n",
      "linear 0.9987760876130529\n",
      "harmonic 0.9987284027148602\n"
     ]
    }
   ],
   "source": [
    "def ensemble_predictions(predictions, weights, type_=\"linear\"):\n",
    "#     assert np.isclose(np.sum(weights), 1.0)\n",
    "    if type_ == \"linear\":\n",
    "        res = np.average(predictions, weights=weights, axis=1)\n",
    "        return res\n",
    "    elif type_ == \"harmonic\":\n",
    "        res = np.average([1 / p for p in predictions.values], weights=weights, axis=1)\n",
    "        return 1 / res\n",
    "    elif type_ == \"geometric\":\n",
    "        numerator = np.average(\n",
    "            [np.log(p) for p in predictions.values], weights=weights, axis=1\n",
    "        )\n",
    "        res = np.exp(numerator / sum(weights))\n",
    "        return res\n",
    "    elif type_ == \"rank\":\n",
    "        res = np.average([rankdata(p) for p in predictions.values.T], weights=weights, axis=0)\n",
    "        return res / (len(res) + 1)\n",
    "\n",
    "init_weights = [50 for _ in range(NUM_MODELS)]\n",
    "\n",
    "def custom_predict(model_preds, weights=init_weights, type_='linear'):\n",
    "    y_pred = ensemble_predictions(model_preds, weights=(np.array(weights) + 1e-15) / (sum(weights) + 1e-15), type_=type_)\n",
    "    return y_pred\n",
    "\n",
    "types = ['linear', 'harmonic', 'geometric']\n",
    "res_dict = {'linear': 0, 'harmonic': 0, 'geometric': 0}\n",
    "for type_ in types:\n",
    "    score = roc_auc_score(dev_target, custom_predict(dev_model_preds, type_=type_))\n",
    "    res_dict[type_] = score\n",
    "for k, v in sorted(res_dict.items(), key=lambda x: x[1], reverse=True):\n",
    "    print(k, v)"
   ]
  },
  {
   "cell_type": "code",
   "execution_count": 8,
   "metadata": {},
   "outputs": [],
   "source": [
    "def val_result(val_preds_fold, y_val, weights, type_):\n",
    "    y_pred = custom_predict(val_preds_fold, weights, type_)\n",
    "    return roc_auc_score(y_val, y_pred)\n",
    " \n",
    "def go_down(best_weights, best_result, j, type_, val_preds_fold, y_val):\n",
    "    curr_weights = deepcopy(best_weights)\n",
    "    curr_weights[j] -= 1\n",
    "    curr_result = val_result(val_preds_fold, y_val, curr_weights, type_)\n",
    "    if curr_result > best_result:\n",
    "        return curr_weights, curr_result\n",
    "    else:\n",
    "        return best_weights, best_result\n",
    "    \n",
    "def go_up(best_weights, best_result, j, type_, val_preds_fold, y_val):\n",
    "    curr_weights = deepcopy(best_weights)\n",
    "    curr_weights[j] += 1\n",
    "    curr_result = val_result(val_preds_fold, y_val, curr_weights, type_)\n",
    "    if curr_result > best_result:\n",
    "        return curr_weights, curr_result\n",
    "    else:\n",
    "        return best_weights, best_result\n",
    "\n",
    "    \n",
    "def weights_tuning(\n",
    "    val_preds,\n",
    "    y_val,\n",
    "    starting_points=[-10, 10, 30, 50, 70],\n",
    "    max_iters=200,\n",
    "    types=types\n",
    "):\n",
    "    best = {'weights': None, 'result': 0, 'type_': None, 'starting_point': None}\n",
    "    for type_ in types:\n",
    "        for w in starting_points:\n",
    "            init_weights = [w for _ in range(NUM_MODELS)]\n",
    "            best_weights = init_weights\n",
    "            best_result = val_result(val_preds, y_val, best_weights, type_)\n",
    "            for i in range(max_iters):\n",
    "    #             print('Start of iteration #{}'.format(i + 1))\n",
    "                n_changes = 0\n",
    "                for j in range(len(best_weights)):\n",
    "                    changed = True\n",
    "                    changed_down = False\n",
    "                    while changed:\n",
    "                        curr_weights, curr_result = go_down(best_weights, best_result, j, type_, val_preds, y_val)\n",
    "                        if curr_result == best_result:\n",
    "                            changed = False\n",
    "                        else:\n",
    "    #                         print('Weights changed to: {}, result: {}'.format(curr_weights, curr_result))\n",
    "                            best_weights, best_result = curr_weights, curr_result\n",
    "                            n_changes += 1\n",
    "                            changed_down = True\n",
    "                    if not changed_down:\n",
    "                        changed = True\n",
    "                        while changed:\n",
    "                            curr_weights, curr_result = go_up(best_weights, best_result, j, type_, val_preds, y_val)\n",
    "                            if curr_result == best_result:\n",
    "                                changed = False\n",
    "                            else:\n",
    "    #                             print('Weights changed to: {}, result: {}'.format(curr_weights, curr_result))\n",
    "                                best_weights, best_result = curr_weights, curr_result\n",
    "                                n_changes += 1\n",
    "    #             print('Best weights: {}, result: {}'.format(best_weights, best_result))\n",
    "\n",
    "    #             print('End of iteration #{}, number of changes: {}'.format(i + 1, n_changes))\n",
    "    #             print()\n",
    "                if n_changes == 0:\n",
    "                    break\n",
    "            if best_result > best['result']:\n",
    "                best['result'] = best_result\n",
    "                best['weights'] = best_weights\n",
    "                best['type_'] = type_\n",
    "                best['starting_point'] = w\n",
    "    return best"
   ]
  },
  {
   "cell_type": "code",
   "execution_count": 13,
   "metadata": {},
   "outputs": [
    {
     "name": "stdout",
     "output_type": "stream",
     "text": [
      "(Best starting point: -5)\n",
      "Best weights: [-5, -5, -2, -5, -6]\n",
      "Best type: geometric\n",
      "Validation score: 0.9989032473415669\n",
      "Time: 0:01:06\n"
     ]
    }
   ],
   "source": [
    "tuning_results = []\n",
    "start_time = time.time()\n",
    "best = weights_tuning(dev_model_preds, dev_target, starting_points=list(range(-200, 200)))\n",
    "print('(Best starting point: {})'.format(best['starting_point']))\n",
    "print('Best weights:', best['weights'])\n",
    "print('Best type:', best['type_'])\n",
    "print('Validation score:', best['result'])\n",
    "print('Time: {}'.format(timedelta(time.time() - start_time)))"
   ]
  },
  {
   "cell_type": "code",
   "execution_count": 14,
   "metadata": {},
   "outputs": [
    {
     "data": {
      "text/plain": [
       "0.9992576322764307"
      ]
     },
     "execution_count": 14,
     "metadata": {},
     "output_type": "execute_result"
    }
   ],
   "source": [
    "roc_auc_score(test_target, custom_predict(test_model_preds, weights=best['weights'], type_=best['type_']))"
   ]
  },
  {
   "cell_type": "code",
   "execution_count": 15,
   "metadata": {},
   "outputs": [
    {
     "data": {
      "text/plain": [
       "0.050444072004269556"
      ]
     },
     "execution_count": 15,
     "metadata": {},
     "output_type": "execute_result"
    }
   ],
   "source": [
    "log_loss(test_target, custom_predict(test_model_preds, weights=best['weights'], type_=best['type_']))"
   ]
  }
 ],
 "metadata": {
  "kernelspec": {
   "display_name": "Python 3",
   "language": "python",
   "name": "python3"
  },
  "language_info": {
   "codemirror_mode": {
    "name": "ipython",
    "version": 3
   },
   "file_extension": ".py",
   "mimetype": "text/x-python",
   "name": "python",
   "nbconvert_exporter": "python",
   "pygments_lexer": "ipython3",
   "version": "3.5.3"
  }
 },
 "nbformat": 4,
 "nbformat_minor": 2
}
