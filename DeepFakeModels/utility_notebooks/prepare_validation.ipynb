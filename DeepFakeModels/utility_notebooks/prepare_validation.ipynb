{
 "cells": [
  {
   "cell_type": "code",
   "execution_count": 1,
   "metadata": {},
   "outputs": [
    {
     "data": {
      "text/plain": [
       "device(type='cuda', index=0)"
      ]
     },
     "execution_count": 1,
     "metadata": {},
     "output_type": "execute_result"
    }
   ],
   "source": [
    "import cv2\n",
    "import glob\n",
    "import matplotlib.pyplot as plt\n",
    "import numpy as np\n",
    "import os\n",
    "import pandas as pd\n",
    "import pickle\n",
    "import time\n",
    "import torch\n",
    "from concurrent.futures import ThreadPoolExecutor, wait, as_completed\n",
    "from sklearn.model_selection import train_test_split\n",
    "from torch.utils.data.dataset import Dataset\n",
    "from tqdm import tqdm\n",
    "\n",
    "METADATA_DIR = 'data/metadata'\n",
    "FACES_DIR = 'faces_saved'\n",
    "\n",
    "%matplotlib inline\n",
    "\n",
    "device = torch.device(\"cuda:0\" if torch.cuda.is_available() else \"cpu\")\n",
    "device"
   ]
  },
  {
   "cell_type": "code",
   "execution_count": 2,
   "metadata": {},
   "outputs": [
    {
     "name": "stdout",
     "output_type": "stream",
     "text": [
      "CPU times: user 124 ms, sys: 52 ms, total: 176 ms\n",
      "Wall time: 174 ms\n"
     ]
    },
    {
     "data": {
      "text/plain": [
       "(1085181, 1085181)"
      ]
     },
     "execution_count": 2,
     "metadata": {},
     "output_type": "execute_result"
    }
   ],
   "source": [
    "%%time\n",
    "\n",
    "with open('FACES_PATHS.pickle', 'rb') as handle:\n",
    "    FACES_PATHS = pickle.load(handle)\n",
    "\n",
    "with open('FACES_LABELS.pickle', 'rb') as handle:\n",
    "    FACES_LABELS = pickle.load(handle)\n",
    "\n",
    "len(FACES_PATHS), len(FACES_LABELS)"
   ]
  },
  {
   "cell_type": "code",
   "execution_count": 3,
   "metadata": {},
   "outputs": [
    {
     "name": "stderr",
     "output_type": "stream",
     "text": [
      "/usr/local/lib/python3.5/site-packages/sklearn/model_selection/_split.py:2026: FutureWarning: From version 0.21, test_size will always complement train_size unless both are specified.\n",
      "  FutureWarning)\n",
      "100%|██████████| 1085181/1085181 [30:07<00:00, 600.34it/s]\n"
     ]
    },
    {
     "data": {
      "text/plain": [
       "(1063586, 10792, 10803, 1063586, 10792, 10803)"
      ]
     },
     "execution_count": 3,
     "metadata": {},
     "output_type": "execute_result"
    }
   ],
   "source": [
    "def train_dev_test_split(faces_paths, faces_labels, split=[0.98, 0.01, 0.01]):\n",
    "    VIDEO_NAMES = []\n",
    "    VIDEO_LABELS = []\n",
    "    for file in os.listdir(METADATA_DIR):\n",
    "        df = pd.read_json(os.path.join(METADATA_DIR, file))\n",
    "        video_names_file = list(map(lambda x: x.split('.')[0], df.index))\n",
    "        video_labels_file = list(df['label'].values)\n",
    "        VIDEO_NAMES = VIDEO_NAMES + video_names_file\n",
    "        VIDEO_LABELS = VIDEO_LABELS + video_labels_file\n",
    "    train_names, dev_names, train_labels, dev_labels = train_test_split(VIDEO_NAMES, VIDEO_LABELS, train_size=split[0], random_state=13)\n",
    "    dev_names, test_names, dev_labels, test_labels = train_test_split(dev_names, dev_labels, train_size=split[1] / (split[1] + split[2]), random_state=13)\n",
    "#     print(len(train_names), len(train_labels), len(dev_names), len(dev_labels), len(test_names), len(test_labels))\n",
    "    train_faces, train_target = [], []\n",
    "    dev_faces, dev_target = [], []\n",
    "    test_faces, test_target = [], []\n",
    "    for i in tqdm(range(len(faces_paths))):\n",
    "        name = faces_paths[i].split('/')[-2]\n",
    "        if name in train_names:\n",
    "            train_faces.append(faces_paths[i])\n",
    "            train_target.append(faces_labels[i])\n",
    "        elif name in dev_names:\n",
    "            dev_faces.append(faces_paths[i])\n",
    "            dev_target.append(faces_labels[i])\n",
    "        elif name in test_names:\n",
    "            test_faces.append(faces_paths[i])\n",
    "            test_target.append(faces_labels[i])\n",
    "    return train_faces, dev_faces, test_faces, train_target, dev_target, test_target\n",
    "\n",
    "train_faces, dev_faces, test_faces, train_target, dev_target, test_target = train_dev_test_split(FACES_PATHS, FACES_LABELS)\n",
    "len(train_faces), len(dev_faces), len(test_faces), len(train_target), len(dev_target), len(test_target)"
   ]
  },
  {
   "cell_type": "code",
   "execution_count": 4,
   "metadata": {},
   "outputs": [],
   "source": [
    "with open('train_faces.pickle', 'wb') as handle:\n",
    "    pickle.dump(train_faces, handle, protocol=pickle.HIGHEST_PROTOCOL)\n",
    "    \n",
    "with open('dev_faces.pickle', 'wb') as handle:\n",
    "    pickle.dump(dev_faces, handle, protocol=pickle.HIGHEST_PROTOCOL)\n",
    "\n",
    "with open('test_faces.pickle', 'wb') as handle:\n",
    "    pickle.dump(test_faces, handle, protocol=pickle.HIGHEST_PROTOCOL)\n",
    "    \n",
    "with open('train_target.pickle', 'wb') as handle:\n",
    "    pickle.dump(train_target, handle, protocol=pickle.HIGHEST_PROTOCOL)\n",
    "    \n",
    "with open('dev_target.pickle', 'wb') as handle:\n",
    "    pickle.dump(dev_target, handle, protocol=pickle.HIGHEST_PROTOCOL)\n",
    "    \n",
    "with open('test_target.pickle', 'wb') as handle:\n",
    "    pickle.dump(test_target, handle, protocol=pickle.HIGHEST_PROTOCOL)"
   ]
  },
  {
   "cell_type": "code",
   "execution_count": 5,
   "metadata": {},
   "outputs": [
    {
     "name": "stdout",
     "output_type": "stream",
     "text": [
      "TRAIN\n",
      "Number of fake faces: 888206/1063586 (83.51%)\n",
      "Number of real faces: 175380/1063586 (16.49%)\n",
      "DEV\n",
      "Number of fake faces: 8860/10792 (82.10%)\n",
      "Number of real faces: 1932/10792 (17.90%)\n",
      "TEST\n",
      "Number of fake faces: 9183/10803 (85.00%)\n",
      "Number of real faces: 1620/10803 (15.00%)\n"
     ]
    }
   ],
   "source": [
    "print('TRAIN')\n",
    "print('Number of fake faces: {}/{} ({:.2f}%)'.format(sum(train_target), len(train_target), np.mean(train_target) * 100))\n",
    "print('Number of real faces: {}/{} ({:.2f}%)'.format(len(train_target) - sum(train_target), len(train_target), (1 - np.mean(train_target)) * 100))\n",
    "print('DEV')\n",
    "print('Number of fake faces: {}/{} ({:.2f}%)'.format(sum(dev_target), len(dev_target), np.mean(dev_target) * 100))\n",
    "print('Number of real faces: {}/{} ({:.2f}%)'.format(len(dev_target) - sum(dev_target), len(dev_target), (1 - np.mean(dev_target)) * 100))\n",
    "print('TEST')\n",
    "print('Number of fake faces: {}/{} ({:.2f}%)'.format(sum(test_target), len(test_target), np.mean(test_target) * 100))\n",
    "print('Number of real faces: {}/{} ({:.2f}%)'.format(len(test_target) - sum(test_target), len(test_target), (1 - np.mean(test_target)) * 100))"
   ]
  }
 ],
 "metadata": {
  "kernelspec": {
   "display_name": "Python 3",
   "language": "python",
   "name": "python3"
  },
  "language_info": {
   "codemirror_mode": {
    "name": "ipython",
    "version": 3
   },
   "file_extension": ".py",
   "mimetype": "text/x-python",
   "name": "python",
   "nbconvert_exporter": "python",
   "pygments_lexer": "ipython3",
   "version": "3.5.3"
  }
 },
 "nbformat": 4,
 "nbformat_minor": 2
}
