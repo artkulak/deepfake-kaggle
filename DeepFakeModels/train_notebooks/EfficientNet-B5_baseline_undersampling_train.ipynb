{
 "cells": [
  {
   "cell_type": "code",
   "execution_count": 1,
   "metadata": {},
   "outputs": [
    {
     "name": "stdout",
     "output_type": "stream",
     "text": [
      "Requirement already satisfied: efficientnet-pytorch in /usr/local/lib/python3.5/dist-packages (0.6.3)\n",
      "Requirement already satisfied: torch in /usr/local/lib/python3.5/dist-packages (from efficientnet-pytorch) (1.3.1)\n",
      "Requirement already satisfied: numpy in /usr/local/lib/python3.5/site-packages (from torch->efficientnet-pytorch) (1.15.1)\n",
      "Requirement already satisfied: mkl-fft in /usr/local/lib/python3.5/dist-packages (from numpy->torch->efficientnet-pytorch) (1.0.6)\n",
      "Requirement already satisfied: mkl in /usr/local/lib/python3.5/dist-packages (from numpy->torch->efficientnet-pytorch) (2019.0)\n",
      "Requirement already satisfied: mkl-random in /usr/local/lib/python3.5/dist-packages (from numpy->torch->efficientnet-pytorch) (1.0.1.1)\n",
      "Requirement already satisfied: icc-rt in /usr/local/lib/python3.5/dist-packages (from numpy->torch->efficientnet-pytorch) (2020.0.133)\n",
      "Requirement already satisfied: tbb4py in /usr/local/lib/python3.5/dist-packages (from numpy->torch->efficientnet-pytorch) (2019.0)\n",
      "Requirement already satisfied: intel-numpy in /usr/local/lib/python3.5/dist-packages (from mkl-fft->numpy->torch->efficientnet-pytorch) (1.15.1)\n",
      "Requirement already satisfied: intel-openmp in /usr/local/lib/python3.5/dist-packages (from mkl->numpy->torch->efficientnet-pytorch) (2020.0.133)\n",
      "Requirement already satisfied: tbb==2019.* in /usr/local/lib/python3.5/dist-packages (from tbb4py->numpy->torch->efficientnet-pytorch) (2019.0)\n",
      "\u001b[33mWARNING: You are using pip version 19.3.1; however, version 20.0.2 is available.\n",
      "You should consider upgrading via the 'pip install --upgrade pip' command.\u001b[0m\n"
     ]
    }
   ],
   "source": [
    "!pip install efficientnet-pytorch"
   ]
  },
  {
   "cell_type": "code",
   "execution_count": 2,
   "metadata": {},
   "outputs": [
    {
     "data": {
      "text/plain": [
       "device(type='cuda', index=0)"
      ]
     },
     "execution_count": 2,
     "metadata": {},
     "output_type": "execute_result"
    }
   ],
   "source": [
    "import cv2\n",
    "cv2.setNumThreads(0)\n",
    "cv2.ocl.setUseOpenCL(False)\n",
    "import datetime\n",
    "import glob\n",
    "import matplotlib.pyplot as plt\n",
    "import numpy as np\n",
    "import os\n",
    "import pandas as pd\n",
    "import pickle\n",
    "import random\n",
    "import time\n",
    "import torch\n",
    "torch.set_num_threads(36)\n",
    "from collections import Counter\n",
    "from concurrent.futures import ThreadPoolExecutor, wait, as_completed\n",
    "from efficientnet_pytorch import EfficientNet\n",
    "from sklearn.metrics import roc_auc_score\n",
    "from sklearn.model_selection import train_test_split\n",
    "from torch import nn, optim\n",
    "from torch.utils.data import DataLoader, Dataset\n",
    "from torch.utils.data.sampler import Sampler, WeightedRandomSampler\n",
    "from tqdm import tqdm\n",
    "\n",
    "from radam import RAdam\n",
    "from lookahead import Lookahead\n",
    "\n",
    "METADATA_DIR = 'data/metadata'\n",
    "FACES_DIR = 'faces_saved'\n",
    "\n",
    "%matplotlib inline\n",
    "\n",
    "device = torch.device(\"cuda:0\" if torch.cuda.is_available() else \"cpu\")\n",
    "device"
   ]
  },
  {
   "cell_type": "code",
   "execution_count": 3,
   "metadata": {},
   "outputs": [
    {
     "name": "stdout",
     "output_type": "stream",
     "text": [
      "CPU times: user 112 ms, sys: 76 ms, total: 188 ms\n",
      "Wall time: 187 ms\n"
     ]
    },
    {
     "data": {
      "text/plain": [
       "(1063586, 10792, 10803, 1063586, 10792, 10803)"
      ]
     },
     "execution_count": 3,
     "metadata": {},
     "output_type": "execute_result"
    }
   ],
   "source": [
    "%%time\n",
    "\n",
    "with open('train_faces.pickle', 'rb') as handle:\n",
    "    train_faces = pickle.load(handle)\n",
    "\n",
    "with open('dev_faces.pickle', 'rb') as handle:\n",
    "    dev_faces = pickle.load(handle)\n",
    "    \n",
    "with open('test_faces.pickle', 'rb') as handle:\n",
    "    test_faces = pickle.load(handle)\n",
    "    \n",
    "with open('train_target.pickle', 'rb') as handle:\n",
    "    train_target = pickle.load(handle)\n",
    "    \n",
    "with open('dev_target.pickle', 'rb') as handle:\n",
    "    dev_target = pickle.load(handle)\n",
    "    \n",
    "with open('test_target.pickle', 'rb') as handle:\n",
    "    test_target = pickle.load(handle)\n",
    "\n",
    "len(train_faces), len(dev_faces), len(test_faces), len(train_target), len(dev_target), len(test_target)"
   ]
  },
  {
   "cell_type": "code",
   "execution_count": 4,
   "metadata": {},
   "outputs": [],
   "source": [
    "class CustomDataset(Dataset):\n",
    "    def __init__(self, faces_paths, faces_labels, datatype='train', transform=None):\n",
    "        self.faces_paths = faces_paths\n",
    "        self.datatype = datatype\n",
    "        assert self.datatype in ['train', 'dev', 'test', 'inference']\n",
    "        self.labels = faces_labels\n",
    "        self.transform = transform\n",
    "\n",
    "    def __len__(self):\n",
    "        return len(self.faces_paths)\n",
    "\n",
    "    def __getitem__(self, idx):\n",
    "        img_name = self.faces_paths[idx]\n",
    "        img = cv2.imread(img_name)\n",
    "        img = cv2.cvtColor(img, cv2.COLOR_BGR2RGB)\n",
    "        img = np.transpose(img, (2, 0, 1)) / 255\n",
    "        if self.transform:\n",
    "            img = self.transform(image=img)['image']\n",
    "\n",
    "        if self.datatype != 'inference':\n",
    "            label = self.labels[idx]\n",
    "            return img, label\n",
    "        else:\n",
    "            return img"
   ]
  },
  {
   "cell_type": "code",
   "execution_count": 5,
   "metadata": {},
   "outputs": [],
   "source": [
    "batch_size = 32\n",
    "num_workers = 8"
   ]
  },
  {
   "cell_type": "code",
   "execution_count": 6,
   "metadata": {},
   "outputs": [],
   "source": [
    "def class_imbalance_sampler(labels):\n",
    "    label_counter = Counter(labels)\n",
    "    sample_weights = {k: 1 / v for k, v in label_counter.items()}\n",
    "    weights = [sample_weights[labels[i]] for i in range(len(labels))]\n",
    "    weights = torch.FloatTensor(weights)\n",
    "    sampler = WeightedRandomSampler(weights, len(labels), replacement=True)\n",
    "    return sampler"
   ]
  },
  {
   "cell_type": "code",
   "execution_count": 7,
   "metadata": {},
   "outputs": [
    {
     "name": "stdout",
     "output_type": "stream",
     "text": [
      "CPU times: user 244 ms, sys: 248 ms, total: 492 ms\n",
      "Wall time: 227 ms\n"
     ]
    }
   ],
   "source": [
    "%%time\n",
    "\n",
    "dataset_train = CustomDataset(faces_paths=train_faces, faces_labels=train_target, datatype='train')\n",
    "dataset_dev = CustomDataset(faces_paths=dev_faces, faces_labels=dev_target, datatype='dev')\n",
    "dataset_test = CustomDataset(faces_paths=test_faces, faces_labels=test_target, datatype='test')\n",
    "\n",
    "train_loader = DataLoader(dataset_train, sampler=class_imbalance_sampler(train_target),\n",
    "                          batch_size=batch_size, shuffle=False, num_workers=num_workers)\n",
    "dev_loader = DataLoader(dataset_dev, sampler=None,\n",
    "                        batch_size=batch_size, shuffle=False, num_workers=num_workers)\n",
    "test_loader = DataLoader(dataset_test, sampler=None,\n",
    "                         batch_size=batch_size, shuffle=False, num_workers=num_workers)"
   ]
  },
  {
   "cell_type": "code",
   "execution_count": 8,
   "metadata": {},
   "outputs": [
    {
     "name": "stdout",
     "output_type": "stream",
     "text": [
      "torch.Size([32, 3, 224, 224])\n",
      "tensor(0)\n",
      "Counter({0: 16, 1: 16})\n"
     ]
    },
    {
     "data": {
      "image/png": "[encoded data removed]",
      "text/plain": [
       "<Figure size 432x288 with 1 Axes>"
      ]
     },
     "metadata": {
      "needs_background": "light"
     },
     "output_type": "display_data"
    }
   ],
   "source": [
    "for X, y in train_loader:\n",
    "    print(X.size())\n",
    "    print(y[0])\n",
    "    print(Counter(np.array(y)))\n",
    "    plt.imshow(np.transpose(X[0, :, :, :], (1, 2, 0)))\n",
    "    break"
   ]
  },
  {
   "cell_type": "markdown",
   "metadata": {},
   "source": [
    "# Model training"
   ]
  },
  {
   "cell_type": "code",
   "execution_count": 9,
   "metadata": {},
   "outputs": [],
   "source": [
    "def seed_everything(seed=13):\n",
    "    random.seed(seed)\n",
    "    os.environ['PYTHONHASHSEED'] = str(seed)\n",
    "    np.random.seed(seed)\n",
    "    torch.manual_seed(seed)\n",
    "    torch.cuda.manual_seed(seed)\n",
    "    torch.cuda.manual_seed_all(seed)\n",
    "    torch.backends.cudnn.deterministic = True\n",
    "    torch.backends.cudnn.benchmark = False\n",
    "    \n",
    "def timedelta(seconds):\n",
    "    return str(datetime.timedelta(seconds=seconds)).split('.')[0]\n",
    "\n",
    "def current_time():\n",
    "    return '-'.join('_'.join((datetime.datetime.now() + datetime.timedelta(hours=3)).strftime('%Y-%m-%d %H:%M:%S').split()).split(':'))\n",
    "\n",
    "def train_model(model, dataset_train, dataset_dev, train_loader, dev_loader,\n",
    "                n_epochs, criterion, optimizer, exp_name, patience=10, seed=13):\n",
    "    \n",
    "    start_time = time.time()\n",
    "\n",
    "    best_val_loss = 1e9\n",
    "    best_val_score = 0\n",
    "    best_epoch = 0\n",
    "    best_state = None\n",
    "    \n",
    "    curr_patience = 0\n",
    "    stop = False\n",
    "\n",
    "    seed_everything(seed)\n",
    "    \n",
    "    train_loss_arr = []\n",
    "    val_loss_arr = []\n",
    "    train_score_arr = []\n",
    "    val_score_arr = []\n",
    "    \n",
    "    print('Starting training.')\n",
    "\n",
    "    for epoch in range(1, n_epochs + 1):\n",
    "        start_time_epoch = time.time()\n",
    "        model.train()\n",
    "        \n",
    "        print()\n",
    "        print('Epoch #{}'.format(epoch))\n",
    "\n",
    "        train_loss_epoch = []\n",
    "        \n",
    "        y_true = np.zeros(len(dataset_train))\n",
    "        y_pred = np.zeros(len(dataset_train))\n",
    "        \n",
    "        for i, (data, target) in enumerate(tqdm(train_loader, desc='train')):\n",
    "            data, target = data.to(device=device).float(), target.to(device=device)\n",
    "\n",
    "            optimizer.zero_grad()\n",
    "            output = model(data)\n",
    "            loss = criterion(output, target)\n",
    "            train_loss_epoch.append(loss.item())\n",
    "\n",
    "            y_true[i * batch_size:(i+1) * batch_size] = target.data.cpu().numpy()\n",
    "            y_pred[i * batch_size:(i+1) * batch_size] = output[:, 1].detach().cpu().numpy()\n",
    "            \n",
    "#             print(roc_auc_score(y_true, y_pred))\n",
    "\n",
    "            loss.backward()\n",
    "            optimizer.step()\n",
    "\n",
    "        train_loss = np.mean(train_loss_epoch)\n",
    "        train_loss_arr.append(train_loss)\n",
    "        train_score = roc_auc_score(y_true, y_pred)\n",
    "        train_score_arr.append(train_score)\n",
    "\n",
    "        model.eval()\n",
    "        val_loss_epoch = []\n",
    "        y_true = np.zeros(len(dataset_dev))\n",
    "        y_pred = np.zeros(len(dataset_dev))\n",
    "\n",
    "        with torch.no_grad():\n",
    "            for i, (data, target) in enumerate(tqdm(dev_loader, desc='val')):\n",
    "                data, target = data.to(device=device).float(), target.to(device=device)\n",
    "                output = model(data)\n",
    "                loss = criterion(output, target)\n",
    "                val_loss_epoch.append(loss.item()) \n",
    "                \n",
    "                y_true[i * batch_size:(i+1) * batch_size] = target.data.cpu().numpy()\n",
    "                y_pred[i * batch_size:(i+1) * batch_size] = output[:, 1].detach().cpu().numpy()\n",
    "#                 print(roc_auc_score(y_true, y_pred))\n",
    "\n",
    "        val_loss = np.mean(val_loss_epoch)\n",
    "        val_loss_arr.append(val_loss)\n",
    "        val_score = roc_auc_score(y_true, y_pred)\n",
    "        val_score_arr.append(val_score)\n",
    "        \n",
    "        if epoch == 1:\n",
    "            print('Train loss: {:.4f}, val loss: {:.4f}, train score: {:.4f}, val score: {:.4f}'.format(\n",
    "                train_loss, val_loss, train_score, val_score\n",
    "            ))\n",
    "        else:\n",
    "            print('Train loss: {:.4f} ({:+.4f}), val loss: {:.4f} ({:+.4f}), train score: {:.4f} ({:+.4f}), val score: {:.4f} ({:+.4f})'.format(\n",
    "                train_loss, train_loss - train_loss_arr[-2], val_loss, val_loss - val_loss_arr[-2],\n",
    "                train_score, train_score - train_score_arr[-2], val_score, val_score - val_score_arr[-2]\n",
    "            ))\n",
    "        \n",
    "        print('Total time passed: {} | epoch: {}'.format(\n",
    "            timedelta(time.time() - start_time),\n",
    "            timedelta(time.time() - start_time_epoch)\n",
    "        ))\n",
    "\n",
    "        if val_score > best_val_score:\n",
    "            best_val_loss = val_loss\n",
    "            best_val_score = val_score\n",
    "            best_epoch = epoch\n",
    "            curr_patience = 0\n",
    "            print('Current patience: {} (SCORE IMPROVED)'.format(curr_patience))\n",
    "        else:\n",
    "            curr_patience += 1\n",
    "            print('Current patience: {}'.format(curr_patience))\n",
    "            if curr_patience > patience:\n",
    "                stop = True\n",
    "        best_state = model.state_dict()\n",
    "        score_str = '{:.6f}'.format(val_score).split('.')[1]\n",
    "        time_curr = current_time()\n",
    "        torch.save(best_state, 'models_checkpoints/{}_{}_{}_ep{}.pt'.format(time_curr, exp_name, score_str, epoch))\n",
    "        \n",
    "        if stop:\n",
    "            print()\n",
    "            print('Stopping training.')\n",
    "            break\n",
    "\n",
    "    print()\n",
    "    print('Final results:')\n",
    "    print('Best epoch: {}, val loss: {:.4f}, val score: {:.4f}'.format(best_epoch, best_val_loss, best_val_score))\n",
    "    print('Total time passed: {}'.format(timedelta(time.time() - start_time)))\n",
    "    return best_state, train_loss_arr, val_loss_arr, train_score_arr, val_score_arr\n",
    "\n",
    "def draw_loss(train_loss_arr, val_loss_arr, name):\n",
    "    plt.figure(figsize=(11.7, 8.3))\n",
    "    plt.title('BCE')\n",
    "    plt.plot(range(1, len(train_loss_arr) + 1), train_loss_arr, label='train')\n",
    "    plt.plot(range(1, len(val_loss_arr) + 1), val_loss_arr, label='validation')\n",
    "    plt.xlabel('epoch')\n",
    "    plt.ylabel('loss')\n",
    "    plt.legend(loc='best')\n",
    "    plt.savefig(os.path.join('plots_loss', name + '.png'))\n",
    "\n",
    "def draw_score(train_score_arr, val_score_arr, name):\n",
    "    plt.figure(figsize=(11.7, 8.3))\n",
    "    plt.title('AUC-ROC')\n",
    "    plt.plot(range(1, len(train_score_arr) + 1), train_score_arr, label='train')\n",
    "    plt.plot(range(1, len(val_score_arr) + 1), val_score_arr, label='validation')\n",
    "    plt.xlabel('epoch')\n",
    "    plt.ylabel('score')\n",
    "    plt.legend(loc='best')\n",
    "    plt.savefig(os.path.join('plots_scores', name + '.png'))"
   ]
  },
  {
   "cell_type": "code",
   "execution_count": null,
   "metadata": {},
   "outputs": [
    {
     "name": "stdout",
     "output_type": "stream",
     "text": [
      "Loaded pretrained weights for efficientnet-b5\n"
     ]
    },
    {
     "name": "stderr",
     "output_type": "stream",
     "text": [
      "\r",
      "train:   0%|          | 0/33238 [00:00<?, ?it/s]"
     ]
    },
    {
     "name": "stdout",
     "output_type": "stream",
     "text": [
      "Starting training.\n",
      "\n",
      "Epoch #1\n"
     ]
    },
    {
     "name": "stderr",
     "output_type": "stream",
     "text": [
      "train:  21%|██        | 6901/33238 [1:07:01<4:18:10,  1.70it/s]"
     ]
    }
   ],
   "source": [
    "EXP_NAME = 'efficientnet-b5-radam-lookahead-baseline-undersampling'\n",
    "\n",
    "model = EfficientNet.from_pretrained('efficientnet-b5', num_classes=2)\n",
    "model.to(device=device)\n",
    "\n",
    "criterion = nn.CrossEntropyLoss()\n",
    "base_opt = RAdam(model.parameters(), lr=1e-3)\n",
    "optimizer = Lookahead(base_opt)\n",
    "\n",
    "best_state, train_loss_arr, val_loss_arr, train_score_arr, val_score_arr = train_model(\n",
    "    model, dataset_train, dataset_dev, train_loader, dev_loader,\n",
    "    n_epochs=10,\n",
    "    criterion=criterion,\n",
    "    optimizer=optimizer,\n",
    "    exp_name=EXP_NAME,\n",
    "    patience=5,\n",
    "    seed=13\n",
    ")\n",
    "\n",
    "name = EXP_NAME\n",
    "draw_loss(train_loss_arr, val_loss_arr, name)\n",
    "draw_score(train_score_arr, val_score_arr, name)"
   ]
  }
 ],
 "metadata": {
  "kernelspec": {
   "display_name": "Python 3",
   "language": "python",
   "name": "python3"
  },
  "language_info": {
   "codemirror_mode": {
    "name": "ipython",
    "version": 3
   },
   "file_extension": ".py",
   "mimetype": "text/x-python",
   "name": "python",
   "nbconvert_exporter": "python",
   "pygments_lexer": "ipython3",
   "version": "3.5.3"
  }
 },
 "nbformat": 4,
 "nbformat_minor": 2
}
