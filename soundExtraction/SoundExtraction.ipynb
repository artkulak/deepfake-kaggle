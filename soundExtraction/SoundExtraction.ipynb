{
 "cells": [
  {
   "cell_type": "code",
   "execution_count": 1,
   "metadata": {},
   "outputs": [
    {
     "name": "stderr",
     "output_type": "stream",
     "text": [
      "/usr/local/lib/python3.5/dist-packages/ipykernel_launcher.py:24: TqdmDeprecationWarning: This function will be removed in tqdm==5.0.0\n",
      "Please use `tqdm.notebook.tqdm` instead of `tqdm.tqdm_notebook`\n"
     ]
    },
    {
     "data": {
      "application/vnd.jupyter.widget-view+json": {
       "model_id": "d19f03bfc4df4efe85a9cc69f9fd8bb1",
       "version_major": 2,
       "version_minor": 0
      },
      "text/plain": [
       "HBox(children=(FloatProgress(value=0.0, max=50.0), HTML(value='')))"
      ]
     },
     "metadata": {},
     "output_type": "display_data"
    },
    {
     "name": "stdout",
     "output_type": "stream",
     "text": [
      "\n"
     ]
    }
   ],
   "source": [
    "import pandas as pd\n",
    "import numpy as np\n",
    "from tqdm import tqdm_notebook\n",
    "from tqdm import tqdm\n",
    "import os\n",
    "import shutil\n",
    "try:\n",
    "    shutil.rmtree('/home/jupyter/soundExtraction/audios/')\n",
    "    shutil.rmtree('/home/jupyter/soundExtraction/audios/altered/')\n",
    "    shutil.rmtree('/home/jupyter/soundExtraction/audios/non_altered/')\n",
    "except:\n",
    "    pass\n",
    "try: \n",
    "    os.mkdir('/home/jupyter/soundExtraction/audios/')\n",
    "    os.mkdir('/home/jupyter/soundExtraction/audios/altered/')\n",
    "    os.mkdir('/home/jupyter/soundExtraction/audios/non_altered/')\n",
    "except:\n",
    "    pass\n",
    "tqdm.pandas()\n",
    "\n",
    "VIDEO_PATH = '/home/jupyter/data/videos/'\n",
    "alteredVideos = pd.read_csv('altered.csv')\n",
    "allVideos = np.array([])\n",
    "for i in tqdm_notebook(range(50)):\n",
    "    index = '0' +str(i)\n",
    "    batchVideos = pd.read_json('../data/metadata/metadata_' + index[-2:] +'.json')\n",
    "    if allVideos.shape[0] == 0:\n",
    "        allVideos = batchVideos\n",
    "    else:\n",
    "        allVideos = pd.concat([allVideos, batchVideos], axis = 0)"
   ]
  },
  {
   "cell_type": "code",
   "execution_count": 3,
   "metadata": {},
   "outputs": [
    {
     "name": "stdout",
     "output_type": "stream",
     "text": [
      "CPU times: user 29.4 s, sys: 160 ms, total: 29.5 s\n",
      "Wall time: 29.2 s\n"
     ]
    }
   ],
   "source": [
    "%%time\n",
    "matchingIdx = pd.Series(allVideos.index).apply(lambda x: x in alteredVideos['train_mp4'].values).values\n",
    "nonAlteredVideos = allVideos[~matchingIdx]"
   ]
  },
  {
   "cell_type": "code",
   "execution_count": 4,
   "metadata": {},
   "outputs": [
    {
     "data": {
      "text/html": [
       "<div>\n",
       "<style scoped>\n",
       "    .dataframe tbody tr th:only-of-type {\n",
       "        vertical-align: middle;\n",
       "    }\n",
       "\n",
       "    .dataframe tbody tr th {\n",
       "        vertical-align: top;\n",
       "    }\n",
       "\n",
       "    .dataframe thead th {\n",
       "        text-align: right;\n",
       "    }\n",
       "</style>\n",
       "<table border=\"1\" class=\"dataframe\">\n",
       "  <thead>\n",
       "    <tr style=\"text-align: right;\">\n",
       "      <th></th>\n",
       "      <th>label</th>\n",
       "      <th>original</th>\n",
       "      <th>split</th>\n",
       "      <th>zip_no</th>\n",
       "    </tr>\n",
       "  </thead>\n",
       "  <tbody>\n",
       "    <tr>\n",
       "      <th>aaqaifqrwn.mp4</th>\n",
       "      <td>FAKE</td>\n",
       "      <td>xugmhbetrw.mp4</td>\n",
       "      <td>train</td>\n",
       "      <td>0</td>\n",
       "    </tr>\n",
       "    <tr>\n",
       "      <th>aayrffkzxn.mp4</th>\n",
       "      <td>REAL</td>\n",
       "      <td>None</td>\n",
       "      <td>train</td>\n",
       "      <td>0</td>\n",
       "    </tr>\n",
       "    <tr>\n",
       "      <th>abhggqdift.mp4</th>\n",
       "      <td>FAKE</td>\n",
       "      <td>aayrffkzxn.mp4</td>\n",
       "      <td>train</td>\n",
       "      <td>0</td>\n",
       "    </tr>\n",
       "    <tr>\n",
       "      <th>acagallncj.mp4</th>\n",
       "      <td>FAKE</td>\n",
       "      <td>fzvpbrzssi.mp4</td>\n",
       "      <td>train</td>\n",
       "      <td>0</td>\n",
       "    </tr>\n",
       "    <tr>\n",
       "      <th>acdkfksyev.mp4</th>\n",
       "      <td>FAKE</td>\n",
       "      <td>qyqufaskjs.mp4</td>\n",
       "      <td>train</td>\n",
       "      <td>0</td>\n",
       "    </tr>\n",
       "    <tr>\n",
       "      <th>...</th>\n",
       "      <td>...</td>\n",
       "      <td>...</td>\n",
       "      <td>...</td>\n",
       "      <td>...</td>\n",
       "    </tr>\n",
       "    <tr>\n",
       "      <th>zynqifmnjl.mp4</th>\n",
       "      <td>FAKE</td>\n",
       "      <td>qaqeyfsjzt.mp4</td>\n",
       "      <td>train</td>\n",
       "      <td>49</td>\n",
       "    </tr>\n",
       "    <tr>\n",
       "      <th>zyqueyykbh.mp4</th>\n",
       "      <td>FAKE</td>\n",
       "      <td>xofswkdrvb.mp4</td>\n",
       "      <td>train</td>\n",
       "      <td>49</td>\n",
       "    </tr>\n",
       "    <tr>\n",
       "      <th>zzovnywzuh.mp4</th>\n",
       "      <td>FAKE</td>\n",
       "      <td>golysrbdyn.mp4</td>\n",
       "      <td>train</td>\n",
       "      <td>49</td>\n",
       "    </tr>\n",
       "    <tr>\n",
       "      <th>zzxireqbdi.mp4</th>\n",
       "      <td>FAKE</td>\n",
       "      <td>bszswtwrra.mp4</td>\n",
       "      <td>train</td>\n",
       "      <td>49</td>\n",
       "    </tr>\n",
       "    <tr>\n",
       "      <th>zzylfwxjbb.mp4</th>\n",
       "      <td>FAKE</td>\n",
       "      <td>mmhdcoqsve.mp4</td>\n",
       "      <td>train</td>\n",
       "      <td>49</td>\n",
       "    </tr>\n",
       "  </tbody>\n",
       "</table>\n",
       "<p>108997 rows × 4 columns</p>\n",
       "</div>"
      ],
      "text/plain": [
       "               label        original  split  zip_no\n",
       "aaqaifqrwn.mp4  FAKE  xugmhbetrw.mp4  train       0\n",
       "aayrffkzxn.mp4  REAL            None  train       0\n",
       "abhggqdift.mp4  FAKE  aayrffkzxn.mp4  train       0\n",
       "acagallncj.mp4  FAKE  fzvpbrzssi.mp4  train       0\n",
       "acdkfksyev.mp4  FAKE  qyqufaskjs.mp4  train       0\n",
       "...              ...             ...    ...     ...\n",
       "zynqifmnjl.mp4  FAKE  qaqeyfsjzt.mp4  train      49\n",
       "zyqueyykbh.mp4  FAKE  xofswkdrvb.mp4  train      49\n",
       "zzovnywzuh.mp4  FAKE  golysrbdyn.mp4  train      49\n",
       "zzxireqbdi.mp4  FAKE  bszswtwrra.mp4  train      49\n",
       "zzylfwxjbb.mp4  FAKE  mmhdcoqsve.mp4  train      49\n",
       "\n",
       "[108997 rows x 4 columns]"
      ]
     },
     "execution_count": 4,
     "metadata": {},
     "output_type": "execute_result"
    }
   ],
   "source": [
    "nonAlteredVideos"
   ]
  },
  {
   "cell_type": "code",
   "execution_count": 66,
   "metadata": {},
   "outputs": [
    {
     "name": "stdout",
     "output_type": "stream",
     "text": [
      "--2020-03-03 20:04:17--  https://www.kaggle.com/rakibilly/ffmpeg-static-build/download\n",
      "Resolving www.kaggle.com (www.kaggle.com)... 35.244.233.98\n",
      "Connecting to www.kaggle.com (www.kaggle.com)|35.244.233.98|:443... connected.\n",
      "HTTP request sent, awaiting response... 302 Found\n",
      "Location: https://storage.googleapis.com/kaggle-data-sets/444558/842050/bundle/archive.zip?GoogleAccessId=web-data@kaggle-161607.iam.gserviceaccount.com&Expires=1583525057&Signature=Olt9CX3tMtWlg0Feg8Oc915FOvX03G5t%2FVfyUWL6yU%2FORi8WYB79VhdcBbcGz5zlhjfN21ksDzJlXoKS2yDLWOsetREXvfu5EHttbk%2B%2Fs5SiHYQ21XWoiwI4OU%2BqyDclhyi%2BNaPyTPloAvxHpZEabcYFwhF0H9wNZC1syspMXbFoZ2b5uCNsFrDrJdnjIDtSr7aMI29kTF%2FPCUHOt%2FrppTssjFqEBji4cvhKVYV%2Fd5ls1%2FX2FlWZS8e2IISXkvVUkhPOGpaDUtUN%2BSvqBHXuJ2%2FOANMJGVXtSznWG6lpM7lULPa1pK0qug1u2jcu0eBP0b34gQYjz1H5ymxSO5o4LA%3D%3D&response-content-disposition=attachment%3B+filename%3Dffmpeg-static-build.zip [following]\n",
      "--2020-03-03 20:04:17--  https://storage.googleapis.com/kaggle-data-sets/444558/842050/bundle/archive.zip?GoogleAccessId=web-data@kaggle-161607.iam.gserviceaccount.com&Expires=1583525057&Signature=Olt9CX3tMtWlg0Feg8Oc915FOvX03G5t%2FVfyUWL6yU%2FORi8WYB79VhdcBbcGz5zlhjfN21ksDzJlXoKS2yDLWOsetREXvfu5EHttbk%2B%2Fs5SiHYQ21XWoiwI4OU%2BqyDclhyi%2BNaPyTPloAvxHpZEabcYFwhF0H9wNZC1syspMXbFoZ2b5uCNsFrDrJdnjIDtSr7aMI29kTF%2FPCUHOt%2FrppTssjFqEBji4cvhKVYV%2Fd5ls1%2FX2FlWZS8e2IISXkvVUkhPOGpaDUtUN%2BSvqBHXuJ2%2FOANMJGVXtSznWG6lpM7lULPa1pK0qug1u2jcu0eBP0b34gQYjz1H5ymxSO5o4LA%3D%3D&response-content-disposition=attachment%3B+filename%3Dffmpeg-static-build.zip\n",
      "Resolving storage.googleapis.com (storage.googleapis.com)... 74.125.142.128, 2607:f8b0:400e:c08::80\n",
      "Connecting to storage.googleapis.com (storage.googleapis.com)|74.125.142.128|:443... connected.\n",
      "HTTP request sent, awaiting response... 200 OK\n",
      "Length: 37817225 (36M) [application/zip]\n",
      "Saving to: ‘download.1’\n",
      "\n",
      "download.1          100%[===================>]  36.06M  43.8MB/s    in 0.8s    \n",
      "\n",
      "2020-03-03 20:04:18 (43.8 MB/s) - ‘download.1’ saved [37817225/37817225]\n",
      "\n",
      "Archive:  download\n",
      "  inflating: ffmpeg-git-amd64-static.tar.xz  \n",
      "ffmpeg-git-20191209-amd64-static/\n",
      "ffmpeg-git-20191209-amd64-static/GPLv3.txt\n",
      "ffmpeg-git-20191209-amd64-static/manpages/\n",
      "ffmpeg-git-20191209-amd64-static/manpages/ffmpeg-all.txt\n",
      "ffmpeg-git-20191209-amd64-static/manpages/ffmpeg-scaler.txt\n",
      "ffmpeg-git-20191209-amd64-static/manpages/ffmpeg-resampler.txt\n",
      "ffmpeg-git-20191209-amd64-static/manpages/ffmpeg-filters.txt\n",
      "ffmpeg-git-20191209-amd64-static/manpages/ffprobe.txt\n",
      "ffmpeg-git-20191209-amd64-static/manpages/ffmpeg-devices.txt\n",
      "ffmpeg-git-20191209-amd64-static/manpages/ffmpeg-utils.txt\n",
      "ffmpeg-git-20191209-amd64-static/manpages/ffmpeg-protocols.txt\n",
      "ffmpeg-git-20191209-amd64-static/manpages/ffmpeg-codecs.txt\n",
      "ffmpeg-git-20191209-amd64-static/manpages/ffmpeg-bitstream-filters.txt\n",
      "ffmpeg-git-20191209-amd64-static/manpages/ffmpeg.txt\n",
      "ffmpeg-git-20191209-amd64-static/manpages/ffmpeg-formats.txt\n",
      "ffmpeg-git-20191209-amd64-static/ffprobe\n",
      "ffmpeg-git-20191209-amd64-static/qt-faststart\n",
      "ffmpeg-git-20191209-amd64-static/model/\n",
      "ffmpeg-git-20191209-amd64-static/model/vmaf_v0.6.1.pkl.model\n",
      "ffmpeg-git-20191209-amd64-static/model/vmaf_4k_v0.6.1.pkl\n",
      "ffmpeg-git-20191209-amd64-static/model/vmaf_rb_v0.6.3/\n",
      "ffmpeg-git-20191209-amd64-static/model/vmaf_rb_v0.6.3/vmaf_rb_v0.6.3.pkl.0020.model\n",
      "ffmpeg-git-20191209-amd64-static/model/vmaf_rb_v0.6.3/vmaf_rb_v0.6.3.pkl.0005\n",
      "ffmpeg-git-20191209-amd64-static/model/vmaf_rb_v0.6.3/vmaf_rb_v0.6.3.pkl.0015\n",
      "ffmpeg-git-20191209-amd64-static/model/vmaf_rb_v0.6.3/vmaf_rb_v0.6.3.pkl.0016.model\n",
      "ffmpeg-git-20191209-amd64-static/model/vmaf_rb_v0.6.3/vmaf_rb_v0.6.3.pkl.model\n",
      "ffmpeg-git-20191209-amd64-static/model/vmaf_rb_v0.6.3/vmaf_rb_v0.6.3.pkl.0008.model\n",
      "ffmpeg-git-20191209-amd64-static/model/vmaf_rb_v0.6.3/vmaf_rb_v0.6.3.pkl.0020\n",
      "ffmpeg-git-20191209-amd64-static/model/vmaf_rb_v0.6.3/vmaf_rb_v0.6.3.pkl.0017.model\n",
      "ffmpeg-git-20191209-amd64-static/model/vmaf_rb_v0.6.3/vmaf_rb_v0.6.3.pkl.0014\n",
      "ffmpeg-git-20191209-amd64-static/model/vmaf_rb_v0.6.3/vmaf_rb_v0.6.3.pkl.0011\n",
      "ffmpeg-git-20191209-amd64-static/model/vmaf_rb_v0.6.3/vmaf_rb_v0.6.3.pkl.0012\n",
      "ffmpeg-git-20191209-amd64-static/model/vmaf_rb_v0.6.3/vmaf_rb_v0.6.3.pkl.0004\n",
      "ffmpeg-git-20191209-amd64-static/model/vmaf_rb_v0.6.3/vmaf_rb_v0.6.3.pkl.0005.model\n",
      "ffmpeg-git-20191209-amd64-static/model/vmaf_rb_v0.6.3/vmaf_rb_v0.6.3.pkl.0013.model\n",
      "ffmpeg-git-20191209-amd64-static/model/vmaf_rb_v0.6.3/vmaf_rb_v0.6.3.pkl.0007.model\n",
      "ffmpeg-git-20191209-amd64-static/model/vmaf_rb_v0.6.3/vmaf_rb_v0.6.3.pkl.0001\n",
      "ffmpeg-git-20191209-amd64-static/model/vmaf_rb_v0.6.3/vmaf_rb_v0.6.3.pkl.0009\n",
      "ffmpeg-git-20191209-amd64-static/model/vmaf_rb_v0.6.3/vmaf_rb_v0.6.3.pkl.0009.model\n",
      "ffmpeg-git-20191209-amd64-static/model/vmaf_rb_v0.6.3/vmaf_rb_v0.6.3.pkl.0004.model\n",
      "ffmpeg-git-20191209-amd64-static/model/vmaf_rb_v0.6.3/vmaf_rb_v0.6.3.pkl.0019.model\n",
      "ffmpeg-git-20191209-amd64-static/model/vmaf_rb_v0.6.3/vmaf_rb_v0.6.3.pkl.0007\n",
      "ffmpeg-git-20191209-amd64-static/model/vmaf_rb_v0.6.3/vmaf_rb_v0.6.3.pkl.0006\n",
      "ffmpeg-git-20191209-amd64-static/model/vmaf_rb_v0.6.3/vmaf_rb_v0.6.3.pkl.0017\n",
      "ffmpeg-git-20191209-amd64-static/model/vmaf_rb_v0.6.3/vmaf_rb_v0.6.3.pkl.0011.model\n",
      "ffmpeg-git-20191209-amd64-static/model/vmaf_rb_v0.6.3/vmaf_rb_v0.6.3.pkl.0008\n",
      "ffmpeg-git-20191209-amd64-static/model/vmaf_rb_v0.6.3/vmaf_rb_v0.6.3.pkl.0010\n",
      "ffmpeg-git-20191209-amd64-static/model/vmaf_rb_v0.6.3/vmaf_rb_v0.6.3.pkl.0018\n",
      "ffmpeg-git-20191209-amd64-static/model/vmaf_rb_v0.6.3/vmaf_rb_v0.6.3.pkl.0002.model\n",
      "ffmpeg-git-20191209-amd64-static/model/vmaf_rb_v0.6.3/vmaf_rb_v0.6.3.pkl.0012.model\n",
      "ffmpeg-git-20191209-amd64-static/model/vmaf_rb_v0.6.3/vmaf_rb_v0.6.3.pkl\n",
      "ffmpeg-git-20191209-amd64-static/model/vmaf_rb_v0.6.3/vmaf_rb_v0.6.3.pkl.0003.model\n",
      "ffmpeg-git-20191209-amd64-static/model/vmaf_rb_v0.6.3/vmaf_rb_v0.6.3.pkl.0019\n",
      "ffmpeg-git-20191209-amd64-static/model/vmaf_rb_v0.6.3/vmaf_rb_v0.6.3.pkl.0014.model\n",
      "ffmpeg-git-20191209-amd64-static/model/vmaf_rb_v0.6.3/vmaf_rb_v0.6.3.pkl.0018.model\n",
      "ffmpeg-git-20191209-amd64-static/model/vmaf_rb_v0.6.3/vmaf_rb_v0.6.3.pkl.0016\n",
      "ffmpeg-git-20191209-amd64-static/model/vmaf_rb_v0.6.3/vmaf_rb_v0.6.3.pkl.0010.model\n",
      "ffmpeg-git-20191209-amd64-static/model/vmaf_rb_v0.6.3/vmaf_rb_v0.6.3.pkl.0001.model\n",
      "ffmpeg-git-20191209-amd64-static/model/vmaf_rb_v0.6.3/vmaf_rb_v0.6.3.pkl.0003\n",
      "ffmpeg-git-20191209-amd64-static/model/vmaf_rb_v0.6.3/vmaf_rb_v0.6.3.pkl.0015.model\n",
      "ffmpeg-git-20191209-amd64-static/model/vmaf_rb_v0.6.3/vmaf_rb_v0.6.3.pkl.0013\n",
      "ffmpeg-git-20191209-amd64-static/model/vmaf_rb_v0.6.3/vmaf_rb_v0.6.3.pkl.0006.model\n",
      "ffmpeg-git-20191209-amd64-static/model/vmaf_rb_v0.6.3/vmaf_rb_v0.6.3.pkl.0002\n",
      "ffmpeg-git-20191209-amd64-static/model/vmaf_rb_v0.6.2/\n",
      "ffmpeg-git-20191209-amd64-static/model/vmaf_rb_v0.6.2/vmaf_rb_v0.6.2.pkl.0019.model\n",
      "ffmpeg-git-20191209-amd64-static/model/vmaf_rb_v0.6.2/vmaf_rb_v0.6.2.pkl.0005.model\n",
      "ffmpeg-git-20191209-amd64-static/model/vmaf_rb_v0.6.2/vmaf_rb_v0.6.2.pkl.0004\n",
      "ffmpeg-git-20191209-amd64-static/model/vmaf_rb_v0.6.2/vmaf_rb_v0.6.2.pkl.0015\n",
      "ffmpeg-git-20191209-amd64-static/model/vmaf_rb_v0.6.2/vmaf_rb_v0.6.2.pkl.0010.model\n",
      "ffmpeg-git-20191209-amd64-static/model/vmaf_rb_v0.6.2/vmaf_rb_v0.6.2.pkl\n",
      "ffmpeg-git-20191209-amd64-static/model/vmaf_rb_v0.6.2/vmaf_rb_v0.6.2.pkl.0012.model\n",
      "ffmpeg-git-20191209-amd64-static/model/vmaf_rb_v0.6.2/vmaf_rb_v0.6.2.pkl.0005\n",
      "ffmpeg-git-20191209-amd64-static/model/vmaf_rb_v0.6.2/vmaf_rb_v0.6.2.pkl.0008.model\n",
      "ffmpeg-git-20191209-amd64-static/model/vmaf_rb_v0.6.2/vmaf_rb_v0.6.2.pkl.0009\n",
      "ffmpeg-git-20191209-amd64-static/model/vmaf_rb_v0.6.2/vmaf_rb_v0.6.2.pkl.0018\n",
      "ffmpeg-git-20191209-amd64-static/model/vmaf_rb_v0.6.2/vmaf_rb_v0.6.2.pkl.0015.model\n",
      "ffmpeg-git-20191209-amd64-static/model/vmaf_rb_v0.6.2/vmaf_rb_v0.6.2.pkl.0011\n",
      "ffmpeg-git-20191209-amd64-static/model/vmaf_rb_v0.6.2/vmaf_rb_v0.6.2.pkl.0014.model\n",
      "ffmpeg-git-20191209-amd64-static/model/vmaf_rb_v0.6.2/vmaf_rb_v0.6.2.pkl.0012\n",
      "ffmpeg-git-20191209-amd64-static/model/vmaf_rb_v0.6.2/vmaf_rb_v0.6.2.pkl.0003.model\n",
      "ffmpeg-git-20191209-amd64-static/model/vmaf_rb_v0.6.2/vmaf_rb_v0.6.2.pkl.0006.model\n",
      "ffmpeg-git-20191209-amd64-static/model/vmaf_rb_v0.6.2/vmaf_rb_v0.6.2.pkl.0013.model\n",
      "ffmpeg-git-20191209-amd64-static/model/vmaf_rb_v0.6.2/vmaf_rb_v0.6.2.pkl.0001\n",
      "ffmpeg-git-20191209-amd64-static/model/vmaf_rb_v0.6.2/vmaf_rb_v0.6.2.pkl.0011.model\n",
      "ffmpeg-git-20191209-amd64-static/model/vmaf_rb_v0.6.2/vmaf_rb_v0.6.2.pkl.0007\n",
      "ffmpeg-git-20191209-amd64-static/model/vmaf_rb_v0.6.2/vmaf_rb_v0.6.2.pkl.0006\n",
      "ffmpeg-git-20191209-amd64-static/model/vmaf_rb_v0.6.2/vmaf_rb_v0.6.2.pkl.model\n",
      "ffmpeg-git-20191209-amd64-static/model/vmaf_rb_v0.6.2/vmaf_rb_v0.6.2.pkl.0017\n",
      "ffmpeg-git-20191209-amd64-static/model/vmaf_rb_v0.6.2/vmaf_rb_v0.6.2.pkl.0008\n",
      "ffmpeg-git-20191209-amd64-static/model/vmaf_rb_v0.6.2/vmaf_rb_v0.6.2.pkl.0003\n",
      "ffmpeg-git-20191209-amd64-static/model/vmaf_rb_v0.6.2/vmaf_rb_v0.6.2.pkl.0002\n",
      "ffmpeg-git-20191209-amd64-static/model/vmaf_rb_v0.6.2/vmaf_rb_v0.6.2.pkl.0004.model\n",
      "ffmpeg-git-20191209-amd64-static/model/vmaf_rb_v0.6.2/vmaf_rb_v0.6.2.pkl.0001.model\n",
      "ffmpeg-git-20191209-amd64-static/model/vmaf_rb_v0.6.2/vmaf_rb_v0.6.2.pkl.0018.model\n",
      "ffmpeg-git-20191209-amd64-static/model/vmaf_rb_v0.6.2/vmaf_rb_v0.6.2.pkl.0002.model\n",
      "ffmpeg-git-20191209-amd64-static/model/vmaf_rb_v0.6.2/vmaf_rb_v0.6.2.pkl.0014\n",
      "ffmpeg-git-20191209-amd64-static/model/vmaf_rb_v0.6.2/vmaf_rb_v0.6.2.pkl.0017.model\n",
      "ffmpeg-git-20191209-amd64-static/model/vmaf_rb_v0.6.2/vmaf_rb_v0.6.2.pkl.0019\n",
      "ffmpeg-git-20191209-amd64-static/model/vmaf_rb_v0.6.2/vmaf_rb_v0.6.2.pkl.0009.model\n"
     ]
    },
    {
     "name": "stdout",
     "output_type": "stream",
     "text": [
      "ffmpeg-git-20191209-amd64-static/model/vmaf_rb_v0.6.2/vmaf_rb_v0.6.2.pkl.0013\r\n",
      "ffmpeg-git-20191209-amd64-static/model/vmaf_rb_v0.6.2/vmaf_rb_v0.6.2.pkl.0007.model\r\n",
      "ffmpeg-git-20191209-amd64-static/model/vmaf_rb_v0.6.2/vmaf_rb_v0.6.2.pkl.0016.model\r\n",
      "ffmpeg-git-20191209-amd64-static/model/vmaf_rb_v0.6.2/vmaf_rb_v0.6.2.pkl.0010\r\n",
      "ffmpeg-git-20191209-amd64-static/model/vmaf_rb_v0.6.2/vmaf_rb_v0.6.2.pkl.0016\r\n",
      "ffmpeg-git-20191209-amd64-static/model/000-PLEASE-README.TXT\r\n",
      "ffmpeg-git-20191209-amd64-static/model/vmaf_4k_rb_v0.6.2/\r\n",
      "ffmpeg-git-20191209-amd64-static/model/vmaf_4k_rb_v0.6.2/vmaf_4k_rb_v0.6.2.pkl.0008.model\r\n",
      "ffmpeg-git-20191209-amd64-static/model/vmaf_4k_rb_v0.6.2/vmaf_4k_rb_v0.6.2.pkl.0012\r\n",
      "ffmpeg-git-20191209-amd64-static/model/vmaf_4k_rb_v0.6.2/vmaf_4k_rb_v0.6.2.pkl.0002.model\r\n",
      "ffmpeg-git-20191209-amd64-static/model/vmaf_4k_rb_v0.6.2/vmaf_4k_rb_v0.6.2.pkl.0007.model\r\n",
      "ffmpeg-git-20191209-amd64-static/model/vmaf_4k_rb_v0.6.2/vmaf_4k_rb_v0.6.2.pkl.0011.model\r\n",
      "ffmpeg-git-20191209-amd64-static/model/vmaf_4k_rb_v0.6.2/vmaf_4k_rb_v0.6.2.pkl.0019\r\n",
      "ffmpeg-git-20191209-amd64-static/model/vmaf_4k_rb_v0.6.2/vmaf_4k_rb_v0.6.2.pkl.0017.model\r\n",
      "ffmpeg-git-20191209-amd64-static/model/vmaf_4k_rb_v0.6.2/vmaf_4k_rb_v0.6.2.pkl.0017\r\n",
      "ffmpeg-git-20191209-amd64-static/model/vmaf_4k_rb_v0.6.2/vmaf_4k_rb_v0.6.2.pkl.0009\r\n",
      "ffmpeg-git-20191209-amd64-static/model/vmaf_4k_rb_v0.6.2/vmaf_4k_rb_v0.6.2.pkl.0010\r\n",
      "ffmpeg-git-20191209-amd64-static/model/vmaf_4k_rb_v0.6.2/vmaf_4k_rb_v0.6.2.pkl.0005.model\r\n",
      "ffmpeg-git-20191209-amd64-static/model/vmaf_4k_rb_v0.6.2/vmaf_4k_rb_v0.6.2.pkl.0009.model\r\n",
      "ffmpeg-git-20191209-amd64-static/model/vmaf_4k_rb_v0.6.2/vmaf_4k_rb_v0.6.2.pkl.0013\r\n",
      "ffmpeg-git-20191209-amd64-static/model/vmaf_4k_rb_v0.6.2/vmaf_4k_rb_v0.6.2.pkl.0018\r\n",
      "ffmpeg-git-20191209-amd64-static/model/vmaf_4k_rb_v0.6.2/vmaf_4k_rb_v0.6.2.pkl.0013.model\r\n",
      "ffmpeg-git-20191209-amd64-static/model/vmaf_4k_rb_v0.6.2/vmaf_4k_rb_v0.6.2.pkl.0014\r\n",
      "ffmpeg-git-20191209-amd64-static/model/vmaf_4k_rb_v0.6.2/vmaf_4k_rb_v0.6.2.pkl.0004\r\n",
      "ffmpeg-git-20191209-amd64-static/model/vmaf_4k_rb_v0.6.2/vmaf_4k_rb_v0.6.2.pkl.0006.model\r\n",
      "ffmpeg-git-20191209-amd64-static/model/vmaf_4k_rb_v0.6.2/vmaf_4k_rb_v0.6.2.pkl.0005\r\n",
      "ffmpeg-git-20191209-amd64-static/model/vmaf_4k_rb_v0.6.2/vmaf_4k_rb_v0.6.2.pkl.0007\r\n",
      "ffmpeg-git-20191209-amd64-static/model/vmaf_4k_rb_v0.6.2/vmaf_4k_rb_v0.6.2.pkl.0019.model\r\n",
      "ffmpeg-git-20191209-amd64-static/model/vmaf_4k_rb_v0.6.2/vmaf_4k_rb_v0.6.2.pkl.0015.model\r\n",
      "ffmpeg-git-20191209-amd64-static/model/vmaf_4k_rb_v0.6.2/vmaf_4k_rb_v0.6.2.pkl.0010.model\r\n",
      "ffmpeg-git-20191209-amd64-static/model/vmaf_4k_rb_v0.6.2/vmaf_4k_rb_v0.6.2.pkl.0008\r\n",
      "ffmpeg-git-20191209-amd64-static/model/vmaf_4k_rb_v0.6.2/vmaf_4k_rb_v0.6.2.pkl.0004.model\r\n",
      "ffmpeg-git-20191209-amd64-static/model/vmaf_4k_rb_v0.6.2/vmaf_4k_rb_v0.6.2.pkl\r\n",
      "ffmpeg-git-20191209-amd64-static/model/vmaf_4k_rb_v0.6.2/vmaf_4k_rb_v0.6.2.pkl.0006\r\n",
      "ffmpeg-git-20191209-amd64-static/model/vmaf_4k_rb_v0.6.2/vmaf_4k_rb_v0.6.2.pkl.0001.model\r\n",
      "ffmpeg-git-20191209-amd64-static/model/vmaf_4k_rb_v0.6.2/vmaf_4k_rb_v0.6.2.pkl.0016.model\r\n",
      "ffmpeg-git-20191209-amd64-static/model/vmaf_4k_rb_v0.6.2/vmaf_4k_rb_v0.6.2.pkl.model\r\n",
      "ffmpeg-git-20191209-amd64-static/model/vmaf_4k_rb_v0.6.2/vmaf_4k_rb_v0.6.2.pkl.0015\r\n",
      "ffmpeg-git-20191209-amd64-static/model/vmaf_4k_rb_v0.6.2/vmaf_4k_rb_v0.6.2.pkl.0003.model\r\n",
      "ffmpeg-git-20191209-amd64-static/model/vmaf_4k_rb_v0.6.2/vmaf_4k_rb_v0.6.2.pkl.0011\r\n",
      "ffmpeg-git-20191209-amd64-static/model/vmaf_4k_rb_v0.6.2/vmaf_4k_rb_v0.6.2.pkl.0016\r\n",
      "ffmpeg-git-20191209-amd64-static/model/vmaf_4k_rb_v0.6.2/vmaf_4k_rb_v0.6.2.pkl.0003\r\n",
      "ffmpeg-git-20191209-amd64-static/model/vmaf_4k_rb_v0.6.2/vmaf_4k_rb_v0.6.2.pkl.0014.model\r\n",
      "ffmpeg-git-20191209-amd64-static/model/vmaf_4k_rb_v0.6.2/vmaf_4k_rb_v0.6.2.pkl.0018.model\r\n",
      "ffmpeg-git-20191209-amd64-static/model/vmaf_4k_rb_v0.6.2/vmaf_4k_rb_v0.6.2.pkl.0001\r\n",
      "ffmpeg-git-20191209-amd64-static/model/vmaf_4k_rb_v0.6.2/vmaf_4k_rb_v0.6.2.pkl.0002\r\n",
      "ffmpeg-git-20191209-amd64-static/model/vmaf_4k_rb_v0.6.2/vmaf_4k_rb_v0.6.2.pkl.0012.model\r\n",
      "ffmpeg-git-20191209-amd64-static/model/vmaf_b_v0.6.3/\r\n",
      "ffmpeg-git-20191209-amd64-static/model/vmaf_b_v0.6.3/vmaf_b_v0.6.3.pkl.0012.model\r\n",
      "ffmpeg-git-20191209-amd64-static/model/vmaf_b_v0.6.3/vmaf_b_v0.6.3.pkl.model\r\n",
      "ffmpeg-git-20191209-amd64-static/model/vmaf_b_v0.6.3/vmaf_b_v0.6.3.pkl.0005\r\n",
      "ffmpeg-git-20191209-amd64-static/model/vmaf_b_v0.6.3/vmaf_b_v0.6.3.pkl.0020.model\r\n",
      "ffmpeg-git-20191209-amd64-static/model/vmaf_b_v0.6.3/vmaf_b_v0.6.3.pkl.0009\r\n",
      "ffmpeg-git-20191209-amd64-static/model/vmaf_b_v0.6.3/vmaf_b_v0.6.3.pkl.0014\r\n",
      "ffmpeg-git-20191209-amd64-static/model/vmaf_b_v0.6.3/vmaf_b_v0.6.3.pkl.0001.model\r\n",
      "ffmpeg-git-20191209-amd64-static/model/vmaf_b_v0.6.3/vmaf_b_v0.6.3.pkl.0019.model\r\n",
      "ffmpeg-git-20191209-amd64-static/model/vmaf_b_v0.6.3/vmaf_b_v0.6.3.pkl.0010.model\r\n",
      "ffmpeg-git-20191209-amd64-static/model/vmaf_b_v0.6.3/vmaf_b_v0.6.3.pkl.0009.model\r\n",
      "ffmpeg-git-20191209-amd64-static/model/vmaf_b_v0.6.3/vmaf_b_v0.6.3.pkl.0010\r\n",
      "ffmpeg-git-20191209-amd64-static/model/vmaf_b_v0.6.3/vmaf_b_v0.6.3.pkl.0012\r\n",
      "ffmpeg-git-20191209-amd64-static/model/vmaf_b_v0.6.3/vmaf_b_v0.6.3.pkl.0013\r\n",
      "ffmpeg-git-20191209-amd64-static/model/vmaf_b_v0.6.3/vmaf_b_v0.6.3.pkl.0016.model\r\n",
      "ffmpeg-git-20191209-amd64-static/model/vmaf_b_v0.6.3/vmaf_b_v0.6.3.pkl.0014.model\r\n",
      "ffmpeg-git-20191209-amd64-static/model/vmaf_b_v0.6.3/vmaf_b_v0.6.3.pkl.0019\r\n",
      "ffmpeg-git-20191209-amd64-static/model/vmaf_b_v0.6.3/vmaf_b_v0.6.3.pkl.0015\r\n",
      "ffmpeg-git-20191209-amd64-static/model/vmaf_b_v0.6.3/vmaf_b_v0.6.3.pkl.0006\r\n",
      "ffmpeg-git-20191209-amd64-static/model/vmaf_b_v0.6.3/vmaf_b_v0.6.3.pkl.0007.model\r\n",
      "ffmpeg-git-20191209-amd64-static/model/vmaf_b_v0.6.3/vmaf_b_v0.6.3.pkl.0002.model\r\n",
      "ffmpeg-git-20191209-amd64-static/model/vmaf_b_v0.6.3/vmaf_b_v0.6.3.pkl.0004.model\r\n",
      "ffmpeg-git-20191209-amd64-static/model/vmaf_b_v0.6.3/vmaf_b_v0.6.3.pkl.0011.model\r\n",
      "ffmpeg-git-20191209-amd64-static/model/vmaf_b_v0.6.3/vmaf_b_v0.6.3.pkl.0006.model\r\n",
      "ffmpeg-git-20191209-amd64-static/model/vmaf_b_v0.6.3/vmaf_b_v0.6.3.pkl.0018\r\n",
      "ffmpeg-git-20191209-amd64-static/model/vmaf_b_v0.6.3/vmaf_b_v0.6.3.pkl.0008.model\r\n",
      "ffmpeg-git-20191209-amd64-static/model/vmaf_b_v0.6.3/vmaf_b_v0.6.3.pkl.0018.model\r\n",
      "ffmpeg-git-20191209-amd64-static/model/vmaf_b_v0.6.3/vmaf_b_v0.6.3.pkl.0011\r\n",
      "ffmpeg-git-20191209-amd64-static/model/vmaf_b_v0.6.3/vmaf_b_v0.6.3.pkl.0007\r\n",
      "ffmpeg-git-20191209-amd64-static/model/vmaf_b_v0.6.3/vmaf_b_v0.6.3.pkl.0020\r\n",
      "ffmpeg-git-20191209-amd64-static/model/vmaf_b_v0.6.3/vmaf_b_v0.6.3.pkl.0003.model\r\n",
      "ffmpeg-git-20191209-amd64-static/model/vmaf_b_v0.6.3/vmaf_b_v0.6.3.pkl.0013.model\r\n",
      "ffmpeg-git-20191209-amd64-static/model/vmaf_b_v0.6.3/vmaf_b_v0.6.3.pkl.0005.model\r\n",
      "ffmpeg-git-20191209-amd64-static/model/vmaf_b_v0.6.3/vmaf_b_v0.6.3.pkl.0001\r\n",
      "ffmpeg-git-20191209-amd64-static/model/vmaf_b_v0.6.3/vmaf_b_v0.6.3.pkl.0016\r\n",
      "ffmpeg-git-20191209-amd64-static/model/vmaf_b_v0.6.3/vmaf_b_v0.6.3.pkl.0008\r\n",
      "ffmpeg-git-20191209-amd64-static/model/vmaf_b_v0.6.3/vmaf_b_v0.6.3.pkl.0003\r\n",
      "ffmpeg-git-20191209-amd64-static/model/vmaf_b_v0.6.3/vmaf_b_v0.6.3.pkl.0004\r\n",
      "ffmpeg-git-20191209-amd64-static/model/vmaf_b_v0.6.3/vmaf_b_v0.6.3.pkl\r\n",
      "ffmpeg-git-20191209-amd64-static/model/vmaf_b_v0.6.3/vmaf_b_v0.6.3.pkl.0017.model\r\n",
      "ffmpeg-git-20191209-amd64-static/model/vmaf_b_v0.6.3/vmaf_b_v0.6.3.pkl.0002\r\n",
      "ffmpeg-git-20191209-amd64-static/model/vmaf_b_v0.6.3/vmaf_b_v0.6.3.pkl.0015.model\r\n",
      "ffmpeg-git-20191209-amd64-static/model/vmaf_b_v0.6.3/vmaf_b_v0.6.3.pkl.0017\r\n",
      "ffmpeg-git-20191209-amd64-static/model/other_models/\r\n",
      "ffmpeg-git-20191209-amd64-static/model/other_models/nflxall_vmafv2.pkl.model\r\n",
      "ffmpeg-git-20191209-amd64-static/model/other_models/vmaf_v0.6.0.pkl\r\n",
      "ffmpeg-git-20191209-amd64-static/model/other_models/nflx_vmaff_rf_v2.pkl\r\n",
      "ffmpeg-git-20191209-amd64-static/model/other_models/nflxtrain_vmafv2.pkl\r\n",
      "ffmpeg-git-20191209-amd64-static/model/other_models/nflxtrain_vmafv3.pkl\r\n",
      "ffmpeg-git-20191209-amd64-static/model/other_models/niqe_v0.1.pkl\r\n",
      "ffmpeg-git-20191209-amd64-static/model/other_models/nflxtrain_libsvmnusvr_currentbest.pkl.model\r\n",
      "ffmpeg-git-20191209-amd64-static/model/other_models/nflxall_vmafv3.pkl.model\r\n",
      "ffmpeg-git-20191209-amd64-static/model/other_models/nflxall_vmafv1.pkl\r\n",
      "ffmpeg-git-20191209-amd64-static/model/other_models/nflx_v1.pkl\r\n",
      "ffmpeg-git-20191209-amd64-static/model/other_models/vmaf_4k_v0.6.1rc.pkl\r\n",
      "ffmpeg-git-20191209-amd64-static/model/other_models/nflxall_vmafv4.pkl\r\n",
      "ffmpeg-git-20191209-amd64-static/model/other_models/vmaf_4k_v0.6.1rc.pkl.model\r\n",
      "ffmpeg-git-20191209-amd64-static/model/other_models/nflx_v1.pkl.model\r\n",
      "ffmpeg-git-20191209-amd64-static/model/other_models/nflxtrain_vmafv1.pkl.model\r\n",
      "ffmpeg-git-20191209-amd64-static/model/other_models/nflxall_vmafv4.pkl.model\r\n",
      "ffmpeg-git-20191209-amd64-static/model/other_models/nflxtrain_vmafv1.pkl\r\n",
      "ffmpeg-git-20191209-amd64-static/model/other_models/nflxall_libsvmnusvr_currentbest.pkl.model\r\n",
      "ffmpeg-git-20191209-amd64-static/model/other_models/nflxtrain_vmafv3a.pkl\r\n",
      "ffmpeg-git-20191209-amd64-static/model/other_models/nflxtrain_vmafv3.pkl.model\r\n",
      "ffmpeg-git-20191209-amd64-static/model/other_models/nflxtrain_norm_type_none.pkl\r\n",
      "ffmpeg-git-20191209-amd64-static/model/other_models/vmaf_v0.6.0.pkl.model\r\n",
      "ffmpeg-git-20191209-amd64-static/model/other_models/nflxall_vmafv3a.pkl\r\n",
      "ffmpeg-git-20191209-amd64-static/model/other_models/nflxall_vmafv1.pkl.model\r\n",
      "ffmpeg-git-20191209-amd64-static/model/other_models/nflxall_vmafv3.pkl\r\n",
      "ffmpeg-git-20191209-amd64-static/model/other_models/nflxtrain_libsvmnusvr_currentbest.pkl\r\n",
      "ffmpeg-git-20191209-amd64-static/model/other_models/nflxall_libsvmnusvr_currentbest.pkl\r\n",
      "ffmpeg-git-20191209-amd64-static/model/other_models/nflx_vmaff_rf_v1.pkl\r\n",
      "ffmpeg-git-20191209-amd64-static/model/other_models/nflxtrain_vmafv2.pkl.model\r\n",
      "ffmpeg-git-20191209-amd64-static/model/other_models/nflxall_vmafv2.pkl\r\n",
      "ffmpeg-git-20191209-amd64-static/model/other_models/model_V8a.model\r\n",
      "ffmpeg-git-20191209-amd64-static/model/other_models/nflxtrain_norm_type_none.pkl.model\r\n",
      "ffmpeg-git-20191209-amd64-static/model/other_models/nflxtrain_vmafv3a.pkl.model\r\n",
      "ffmpeg-git-20191209-amd64-static/model/other_models/nflxall_vmafv3a.pkl.model\r\n",
      "ffmpeg-git-20191209-amd64-static/model/vmaf_4k_v0.6.1.pkl.model\r\n",
      "ffmpeg-git-20191209-amd64-static/model/vmaf_v0.6.1.pkl\r\n",
      "ffmpeg-git-20191209-amd64-static/readme.txt\r\n",
      "ffmpeg-git-20191209-amd64-static/ffmpeg\r\n"
     ]
    }
   ],
   "source": [
    "! wget --load-cookies ../cookies.txt https://www.kaggle.com/rakibilly/ffmpeg-static-build/download\n",
    "! unzip download\n",
    "! tar xvf ffmpeg-git-amd64-static.tar.xz\n",
    "! sudo rm ffmpeg-git-amd64-static.tar.xz"
   ]
  },
  {
   "cell_type": "code",
   "execution_count": 3,
   "metadata": {},
   "outputs": [],
   "source": [
    "import subprocess\n",
    "output_format = 'wav'  # can also use aac, wav, etc\n",
    "out = '/home/jupyter/soundExtraction/audios/'\n",
    "def create_wav(list_of_files, output_dir):\n",
    "    for file in tqdm_notebook(list_of_files):\n",
    "        command = \"sudo /home/jupyter/soundExtraction/ffmpeg-git-20191209-amd64-static/ffmpeg -i \" + file + \" -ab 192000 -ac 2 -ar 44100 -vn \"+ output_dir + file[-14:-4] +\".\" + output_format\n",
    "        subprocess.call(command, shell=True)"
   ]
  },
  {
   "cell_type": "code",
   "execution_count": 37,
   "metadata": {},
   "outputs": [
    {
     "name": "stderr",
     "output_type": "stream",
     "text": [
      "/usr/local/lib/python3.5/dist-packages/ipykernel_launcher.py:5: TqdmDeprecationWarning: This function will be removed in tqdm==5.0.0\n",
      "Please use `tqdm.notebook.tqdm` instead of `tqdm.tqdm_notebook`\n",
      "  \"\"\"\n"
     ]
    },
    {
     "data": {
      "application/vnd.jupyter.widget-view+json": {
       "model_id": "6b241327b5a3452b93689428db1fc8d3",
       "version_major": 2,
       "version_minor": 0
      },
      "text/plain": [
       "HBox(children=(FloatProgress(value=0.0, max=10157.0), HTML(value='')))"
      ]
     },
     "metadata": {},
     "output_type": "display_data"
    },
    {
     "name": "stdout",
     "output_type": "stream",
     "text": [
      "\n"
     ]
    }
   ],
   "source": [
    "# altered extraction\n",
    "videos = list(VIDEO_PATH  + alteredVideos['train_mp4'].values)\n",
    "create_wav(videos, output_dir = out + 'altered/')"
   ]
  },
  {
   "cell_type": "code",
   "execution_count": 38,
   "metadata": {},
   "outputs": [
    {
     "name": "stderr",
     "output_type": "stream",
     "text": [
      "/usr/local/lib/python3.5/dist-packages/ipykernel_launcher.py:5: TqdmDeprecationWarning: This function will be removed in tqdm==5.0.0\n",
      "Please use `tqdm.notebook.tqdm` instead of `tqdm.tqdm_notebook`\n",
      "  \"\"\"\n"
     ]
    },
    {
     "data": {
      "application/vnd.jupyter.widget-view+json": {
       "model_id": "92a2303cd5324d8d8316ca4c16979bfe",
       "version_major": 2,
       "version_minor": 0
      },
      "text/plain": [
       "HBox(children=(FloatProgress(value=0.0, max=10157.0), HTML(value='')))"
      ]
     },
     "metadata": {},
     "output_type": "display_data"
    },
    {
     "name": "stdout",
     "output_type": "stream",
     "text": [
      "\n"
     ]
    }
   ],
   "source": [
    "# non altered extraction\n",
    "videos = list(VIDEO_PATH + np.array(nonAlteredVideos.sample(n = len(videos)).index))\n",
    "create_wav(videos, output_dir = out + 'non_altered/')"
   ]
  },
  {
   "cell_type": "code",
   "execution_count": 6,
   "metadata": {},
   "outputs": [
    {
     "name": "stderr",
     "output_type": "stream",
     "text": [
      "/usr/local/lib/python3.5/dist-packages/ipykernel_launcher.py:5: TqdmDeprecationWarning: This function will be removed in tqdm==5.0.0\n",
      "Please use `tqdm.notebook.tqdm` instead of `tqdm.tqdm_notebook`\n",
      "  \"\"\"\n"
     ]
    },
    {
     "data": {
      "application/vnd.jupyter.widget-view+json": {
       "model_id": "576bd4bb853b45b0bbc363a0785ddbbf",
       "version_major": 2,
       "version_minor": 0
      },
      "text/plain": [
       "HBox(children=(FloatProgress(value=0.0, max=10157.0), HTML(value='')))"
      ]
     },
     "metadata": {},
     "output_type": "display_data"
    },
    {
     "name": "stdout",
     "output_type": "stream",
     "text": [
      "\n"
     ]
    }
   ],
   "source": [
    "# original altered extraction\n",
    "videos = list(VIDEO_PATH  + alteredVideos['original'].values)\n",
    "create_wav(videos, output_dir = out + 'original_altered/')"
   ]
  },
  {
   "cell_type": "code",
   "execution_count": null,
   "metadata": {},
   "outputs": [],
   "source": []
  }
 ],
 "metadata": {
  "kernelspec": {
   "display_name": "Python 3",
   "language": "python",
   "name": "python3"
  },
  "language_info": {
   "codemirror_mode": {
    "name": "ipython",
    "version": 3
   },
   "file_extension": ".py",
   "mimetype": "text/x-python",
   "name": "python",
   "nbconvert_exporter": "python",
   "pygments_lexer": "ipython3",
   "version": "3.5.3"
  }
 },
 "nbformat": 4,
 "nbformat_minor": 2
}
